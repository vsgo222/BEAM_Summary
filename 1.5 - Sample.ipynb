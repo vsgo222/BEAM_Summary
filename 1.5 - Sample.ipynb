{
 "cells": [
  {
   "cell_type": "code",
   "execution_count": 29,
   "metadata": {
    "collapsed": true
   },
   "outputs": [],
   "source": [
    "import pandas as pd\n",
    "import geopandas as gpd\n",
    "import pathlib\n",
    "from pathlib import Path\n",
    "from tqdm import tqdm\n",
    "import gzip\n",
    "from xml.etree.ElementTree import Element, SubElement, Comment, tostring\n",
    "import xml.etree.ElementTree as ET\n",
    "# to read the excel\n",
    "from openpyxl import load_workbook\n",
    "from openpyxl import Workbook\n",
    "import datetime\n",
    "import os\n",
    "import re\n",
    "import numpy as np\n",
    "from collections import OrderedDict\n",
    "import seaborn as sns\n",
    "import matplotlib.pyplot as plt\n",
    "from matplotlib.gridspec import GridSpec\n",
    "from plotnine import *\n",
    "from plotnine.data import *\n",
    "# set the working directory\n",
    "BASE_DIR = Path.cwd()"
   ]
  },
  {
   "cell_type": "code",
   "execution_count": 30,
   "outputs": [],
   "source": [
    "#Sample information\n",
    "\n",
    "sample_pct = 0.0088 # sample value in percentage\n",
    "scale_factor = 100/(100*sample_pct)"
   ],
   "metadata": {
    "collapsed": false,
    "pycharm": {
     "name": "#%%\n"
    }
   }
  },
  {
   "cell_type": "code",
   "execution_count": 31,
   "outputs": [],
   "source": [
    "# get the first and the last iteration name\n",
    "def get_iteration_count(simulation_run):\n",
    "    rootPath = BASE_DIR.parent.joinpath(\"runs\", simulation_run,\"ITERS\")\n",
    "    list_iter=[]\n",
    "    for name in [entry for entry in os.listdir(rootPath) if os.path.isdir(os.path.join(rootPath, entry))]:\n",
    "        list_iter.append(int(name.rsplit(\"it.\")[1]))\n",
    "    return max((list_iter)),min((list_iter))\n",
    "# setup the BEAM model output folder name here\n",
    "simulation_run = \"calibration-trial-20__gmu\"\n",
    "last_iter,first_iter = get_iteration_count(simulation_run)\n",
    "\n",
    "# get the path of the simulation run and also get its creation date\n",
    "def get_foldercreation_inf(folder_name):\n",
    "    fname = pathlib.Path(BASE_DIR.parent.joinpath(\"runs\", simulation_run,\"ITERS\",(\"it.\"+str(last_iter)), (str(last_iter)+\".linkstats.csv.gz\")))\n",
    "    assert fname.exists(), f'No such file: {fname}'  # check that the file exists\n",
    "    ctime = datetime.datetime.fromtimestamp(fname.stat().st_ctime)\n",
    "    return ctime.strftime(\"%Y-%m-%d\")\n",
    "# get its creation date\n",
    "date_time = get_foldercreation_inf(simulation_run)"
   ],
   "metadata": {
    "collapsed": false,
    "pycharm": {
     "name": "#%%\n"
    }
   }
  },
  {
   "cell_type": "code",
   "execution_count": 32,
   "outputs": [],
   "source": [
    "# get VMT, VHT and ratio from the last iteration of the linkstats file\n",
    "class linkstats_to_df(object):\n",
    "    def __init__(self,df):\n",
    "        self.dataframe = df\n",
    "        self.dataframe = self.dataframe.reset_index(drop=True)\n",
    "        self.dataframe[\"volume\"] = self.dataframe[\"volume\"].fillna(0)\n",
    "        self.dataframe[\"length\"] = self.dataframe[\"length\"].fillna(0)\n",
    "        self.dataframe[\"vmt\"] = self.dataframe[\"length\"]*0.00062137*self.dataframe[\"volume\"]*scale_factor\n",
    "        self.VMT_sum = self.dataframe[\"vmt\"].sum()\n",
    "        # add congested speed (mph)\n",
    "        self.dataframe[\"congested_speed_mph\"] = (self.dataframe[\"length\"]/self.dataframe[\"traveltime\"])*2.23694\n",
    "        # add free-flow speed (mph)\n",
    "        self.dataframe[\"freeflow_speed_mph\"] = self.dataframe[\"freespeed\"]*2.23694\n",
    "        # add vehicle hours of delay (free flow speed - congested speed)* volume\n",
    "        self.dataframe[\"VHD\"] = ((self.dataframe[\"freeflow_speed_mph\"]-self.dataframe[\"congested_speed_mph\"])*(self.dataframe[\"volume\"])*20)/(60*60)\n",
    "        self.VHD_sum = self.dataframe[\"VHD\"].sum()\n",
    "        # calculate VHT\n",
    "        self.dataframe[\"VHT\"] = self.dataframe[\"volume\"]*(self.dataframe[\"traveltime\"]/(60*60))*scale_factor\n",
    "        self.VHT_sum = self.dataframe[\"VHT\"].sum()\n",
    "        # calculate VMT VHT Ratio\n",
    "        self.VMT_VHT_ratio = self.VMT_sum/self.VHT_sum\n",
    "\n",
    "dfBayAreaBeam = linkstats_to_df(pd.read_csv((BASE_DIR.parent.joinpath(\"runs\",simulation_run,\"ITERS\",(\"it.\"+str(last_iter)),(str(last_iter)+\".linkstats.csv.gz\")))))\n",
    "# print(\"LinkStatistics\")\n",
    "# print(\"VMT: {}, VHT: {}, ratio:{}\".format(dfBayAreaBeam.VMT_sum,dfBayAreaBeam.VHT_sum,dfBayAreaBeam.VMT_VHT_ratio))"
   ],
   "metadata": {
    "collapsed": false,
    "pycharm": {
     "name": "#%%\n"
    }
   }
  },
  {
   "cell_type": "code",
   "execution_count": 33,
   "outputs": [],
   "source": [
    "### now read the link stat from the SF County\n",
    "gdSFCountyNetwork = gpd.read_file((BASE_DIR.parent.joinpath(\"runs\", simulation_run,\"Network\",\"SFCounty_EPSG4326.geojson\")),driver='GeoJSON')\n",
    "gdfSFBoundary = gpd.read_file((BASE_DIR.parent.joinpath(\"runs\", simulation_run,\"Network\",\"SFCounty_boundary_EPSG4326.geojson\")),driver='GeoJSON')\n",
    "\n",
    "df = gdSFCountyNetwork.loc[~gdSFCountyNetwork[\"Information\"].isin(['San Mateo', 'Golden Gate Bridge', 'SFOak1', 'SFOak2'])]\n",
    "# # convert it to dictinary \"Length\" & \"Link\"\n",
    "network_links = dict(zip(df[\"ID\"], df[\"LENGTH\"]))\n",
    "\n",
    "dfBayArea = pd.read_csv(BASE_DIR.parent.joinpath((BASE_DIR.parent.joinpath(\"runs\",simulation_run,\"ITERS\",(\"it.\"+str(last_iter)),(str(last_iter)+\".linkstats.csv.gz\")))), compression=\"gzip\", low_memory=True)\n",
    "dfBayArea.reset_index(drop=True,inplace=True)\n",
    "dfBayArea[\"link\"]=dfBayArea[\"link\"].astype(str)\n",
    "dfSFCounty=dfBayArea[dfBayArea[\"link\"].isin(network_links.keys())]\n",
    "dfSFCountyBeam = linkstats_to_df(dfSFCounty)\n",
    "# print(\"LinkStatistics\")\n",
    "# print(\"VMT: {}, VHT: {}, ratio:{}\".format(dfSFCountyBeam.VMT_sum,dfSFCountyBeam.VHT_sum,dfSFCountyBeam.VMT_VHT_ratio))"
   ],
   "metadata": {
    "collapsed": false,
    "pycharm": {
     "name": "#%%\n"
    }
   }
  },
  {
   "cell_type": "code",
   "execution_count": 34,
   "outputs": [],
   "source": [
    "class detailed_events(object):\n",
    "    def __init__(self,folder_path):\n",
    "        self.dfEvents = pd.read_csv(folder_path,low_memory=False)\n",
    "        self.dfEvents[\"Travel_Time\"] = self.dfEvents[\"arrivalTime\"] - self.dfEvents[\"departureTime\"]\n",
    "        self.TT_PTBoardings = {}\n",
    "        PersonEnterVeh = self.dfEvents.loc[(self.dfEvents[\"type\"]==\"PersonEntersVehicle\") &\n",
    "                                           (~self.dfEvents[\"vehicle\"].str.contains(\"rideHailVehicle\",na=False)) &\n",
    "                                           (~self.dfEvents[\"person\"].str.contains(\"TransitDriverAgent\",na=False))].copy()\n",
    "        # create dictionary: vehicle:mode\n",
    "        veh_mode_df = self.dfEvents.loc[(self.dfEvents[\"type\"]==\"PathTraversal\") &(self.dfEvents[\"vehicle\"].str.contains(\"SF|BA\", na=False))]\n",
    "        veh_mode = dict(zip(veh_mode_df.vehicle, veh_mode_df[\"mode\"]))\n",
    "        # map them to get number of boardings by PT mode\n",
    "        PersonEnterVeh[\"mode_veh\"] = PersonEnterVeh[\"vehicle\"].map(veh_mode,na_action='ignore')\n",
    "        # get counts\n",
    "        self.veh_counts = PersonEnterVeh[~PersonEnterVeh[\"mode_veh\"].isna()].mode_veh.value_counts()\n",
    "        self.bus_boarding = self.veh_counts.bus\n",
    "        self.TT_PTBoardings[\"bus_boarding\"] = self.veh_counts.bus\n",
    "        self.tram_boarding = self.veh_counts.tram\n",
    "        self.TT_PTBoardings[\"tram_boarding\"] = self.veh_counts.tram\n",
    "        self.rail_boarding = self.veh_counts.subway\n",
    "        self.TT_PTBoardings[\"rail_boarding\"] = self.veh_counts.subway\n",
    "        self.cable_boarding = self.veh_counts.cable_car\n",
    "        self.TT_PTBoardings[\"cable_boarding\"] = self.veh_counts.cable_car\n",
    "\n",
    "    def get_ii_modeshare(self):\n",
    "        dfEvents = self.dfEvents[~self.dfEvents[\"person\"].str.contains(\"ix\",na=False) & ~self.dfEvents[\"person\"].str.contains(\"rideHailAgent\",na=False) & ~self.dfEvents[\"person\"].str.contains(\"TransitDriverAgent\",na=False) & (~self.dfEvents[\"person\"].isna())]\n",
    "        return dfEvents.loc[(dfEvents[\"type\"]==\"TripArrivalEvent\"),\"mode\"].value_counts(normalize=True)\n",
    "\n",
    "    def get_TT_modeshare(self):\n",
    "        dfEvents = self.dfEvents[~self.dfEvents[\"person\"].str.contains(\"rideHailAgent\",na=False) & ~self.dfEvents[\"person\"].str.contains(\"TransitDriverAgent\",na=False) & (~self.dfEvents[\"person\"].isna())]\n",
    "        return dfEvents.loc[(dfEvents[\"type\"]==\"TripArrivalEvent\"),\"mode\"].value_counts(normalize=True)\n",
    "\n",
    "    def get_ii_PTBoardings(self):\n",
    "        dfEvents_ii = self.dfEvents.copy()\n",
    "        PTBoardings = {}\n",
    "        dfEvents_ii = dfEvents_ii.loc[~dfEvents_ii[\"person\"].str.startswith(\"ix\", na=False)]\n",
    "        PersonEnterVeh = dfEvents_ii.loc[(dfEvents_ii[\"type\"]==\"PersonEntersVehicle\") &\n",
    "                                         (~dfEvents_ii[\"vehicle\"].str.contains(\"rideHailVehicle\",na=False)) &\n",
    "                                         (~dfEvents_ii[\"person\"].str.contains(\"TransitDriverAgent\",na=False))]\n",
    "        pt_ridreship = len(PersonEnterVeh[PersonEnterVeh[\"vehicle\"].str.contains(\"SF|BA\", na=False)])\n",
    "        # create dictionary: vehicle:mode\n",
    "        veh_mode_df = dfEvents_ii.loc[(dfEvents_ii[\"type\"]==\"PathTraversal\") & (dfEvents_ii[\"vehicle\"].str.contains(\"SF|BA\", na=False))]\n",
    "        veh_mode = dict(zip(veh_mode_df.vehicle, veh_mode_df[\"mode\"]))\n",
    "        # map them to get number of boardings by PT mode\n",
    "        PersonEnterVeh[\"mode_veh\"] = PersonEnterVeh[\"vehicle\"].map(veh_mode,na_action='ignore')\n",
    "        # get counts\n",
    "        veh_counts = PersonEnterVeh[~PersonEnterVeh[\"mode_veh\"].isna()].mode_veh.value_counts()\n",
    "        PTBoardings[\"bus_boarding\"] = veh_counts.bus\n",
    "        PTBoardings[\"tram_boarding\"] =veh_counts.tram\n",
    "        PTBoardings[\"rail_boarding\"] =veh_counts.subway\n",
    "        PTBoardings[\"cable_boarding\"] = veh_counts.cable_car\n",
    "        return PTBoardings\n",
    "\n",
    "    def get_agents_count(self):\n",
    "        agent_counts = {}\n",
    "        agent_counts[\"ix_agents\"]  = self.dfEvents.loc[self.dfEvents[\"person\"].str.startswith(\"ix\", na=False),\"person\"].nunique()\n",
    "        agent_counts[\"ii_agents\"]  = self.dfEvents.loc[(~ self.dfEvents[\"person\"].str.startswith(\"ix\", na=False)) & (~self.dfEvents[\"person\"].str.startswith(\"rideHailAgent\",na=False)) & (~self.dfEvents[\"person\"].str.startswith(\"TransitDriverAgent\",na=False)),\"person\"].nunique()\n",
    "        agent_counts[\"ridehail_agent\"] = self.dfEvents.loc[self.dfEvents[\"person\"].str.startswith(\"rideHailAgent\", na=False),\"person\"].nunique()\n",
    "        agent_counts[\"total_agent\"] = sum(agent_counts.values())\n",
    "        return agent_counts\n",
    "\n",
    "    def get_TT_unlinked_trips(self):\n",
    "        dfEvents = self.dfEvents[~self.dfEvents[\"person\"].str.contains(\"rideHailAgent\",na=False) & ~self.dfEvents[\"person\"].str.contains(\"TransitDriverAgent\",na=False) & (~self.dfEvents[\"person\"].isna())]\n",
    "        return dfEvents.loc[(dfEvents[\"type\"]==\"TripArrivalEvent\"),\"mode\"].value_counts()\n",
    "\n",
    "    def get_ii_unlinked_trips(self):\n",
    "        dfEvents = self.dfEvents[~self.dfEvents[\"person\"].str.contains(\"ix\",na=False) & ~self.dfEvents[\"person\"].str.contains(\"rideHailAgent\",na=False) & ~self.dfEvents[\"person\"].str.contains(\"TransitDriverAgent\",na=False) & (~self.dfEvents[\"person\"].isna())]\n",
    "        return dfEvents.loc[(dfEvents[\"type\"]==\"TripArrivalEvent\"),\"mode\"].value_counts()\n",
    "\n",
    "    def get_TT_tourpurpose_stats(self):\n",
    "        dfEvents = self.dfEvents.copy()\n",
    "        dfTour = dfEvents.loc[(~dfEvents[\"person\"].str.contains(\"rideHailAgent\",na=False) &\n",
    "                               ~dfEvents[\"person\"].str.contains(\"TransitDriverAgent\",na=False) &\n",
    "                               (~dfEvents[\"person\"].isna())),:].dropna(subset = [\"vehicleOwnership\"])\n",
    "        return dfTour\\\n",
    "            .groupby([\"tourPurpose\",\"vehicleOwnership\",\"mode\"]).size().reset_index().rename(columns={0:\"count\"})\\\n",
    "            .groupby(\"tourPurpose\")\\\n",
    "            .apply(lambda vehOwntype: dict(vehOwntype.groupby(\"vehicleOwnership\")\n",
    "                                           .apply(lambda mode_used: dict(zip(mode_used[\"mode\"],mode_used[\"count\"])))))\n",
    "\n",
    "    def get_ii_tourpurpose_stats(self):\n",
    "        dfEvents = self.dfEvents.copy()\n",
    "        dfTour = dfEvents.loc[(~dfEvents[\"person\"].str.contains(\"ix\",na=False) &\n",
    "                               ~dfEvents[\"person\"].str.contains(\"rideHailAgent\",na=False) &\n",
    "                               ~dfEvents[\"person\"].str.contains(\"TransitDriverAgent\",na=False) &\n",
    "                               (~dfEvents[\"person\"].isna())),:].dropna(subset = [\"vehicleOwnership\"])\n",
    "        dfTour=dfTour[dfTour[\"type\"]==\"TripArrivalEvent\"]\n",
    "        tour_purpose_dict = dfTour.groupby([\"tourPurpose\", \"vehicleOwnership\", \"mode\"]).size().reset_index().rename(columns={0: \"count\"})\\\n",
    "            .groupby(\"tourPurpose\")\\\n",
    "            .apply(lambda vehOwntype: dict(vehOwntype.groupby(\"vehicleOwnership\")\n",
    "                                           .apply(lambda mode_used: dict(zip(mode_used[\"mode\"], mode_used[\"count\"]))))).copy()\n",
    "        for key,value in tour_purpose_dict.iteritems():\n",
    "            if isinstance(tour_purpose_dict.get(key),dict):\n",
    "                for auto_ownership,modes in tour_purpose_dict.get(key).items():\n",
    "                    mode_keys = [\"car\", \"walk_transit\", \"drive_transit\", \"bike_transit\", \"ride_hail_transit\", \"walk\", \"bike\", \"ride_hail_pooled\", \"ride_hail\", \"hov2_teleportation\", \"hov2\",\"hov3_teleportation\", \"hov3\"]\n",
    "                    if isinstance(modes,dict):\n",
    "                        for mode,count in modes.items():\n",
    "                            if mode in mode_keys:\n",
    "                                mode_keys.remove(mode)\n",
    "                        for mode in mode_keys:\n",
    "                            tour_purpose_dict[key][auto_ownership][mode]=0\n",
    "\n",
    "        return tour_purpose_dict\n",
    "\n",
    "    def get_ii_auto_ratio_status(self):\n",
    "        dfEvents = self.dfEvents.copy()\n",
    "        dfTour = dfEvents.loc[(~dfEvents[\"person\"].str.contains(\"ix\",na=False) &\n",
    "                               ~dfEvents[\"person\"].str.contains(\"rideHailAgent\",na=False) &\n",
    "                               ~dfEvents[\"person\"].str.contains(\"TransitDriverAgent\",na=False) &\n",
    "                               (~dfEvents[\"person\"].isna())),:].dropna(subset = [\"vehicleOwnership\"])\n",
    "        return dfTour[\"vehicleOwnership\"].value_counts(normalize=True)\n",
    "\n",
    "    def get_TT_auto_ratio_status(self):\n",
    "        dfEvents = self.dfEvents.copy()\n",
    "        dfTour = dfEvents.loc[(~dfEvents[\"person\"].str.contains(\"rideHailAgent\",na=False) &\n",
    "                               ~dfEvents[\"person\"].str.contains(\"TransitDriverAgent\",na=False) &\n",
    "                               (~dfEvents[\"person\"].isna())),:].dropna(subset = [\"vehicleOwnership\"])\n",
    "        return dfTour[\"vehicleOwnership\"].value_counts(normalize=True)\n",
    "\n",
    "    def get_TT_activity_type(self):\n",
    "        dfEvents = self.dfEvents.copy()\n",
    "        dfActivity = dfEvents.loc[(~dfEvents[\"person\"].str.contains(\"rideHailAgent\",na=False) &\n",
    "                                   ~dfEvents[\"person\"].str.contains(\"TransitDriverAgent\",na=False) &\n",
    "                                   (~dfEvents[\"person\"].isna())),:].dropna(subset = [\"tourPurpose\"])\n",
    "        return dfActivity[\"tourPurpose\"].value_counts(normalize=True)\n",
    "\n",
    "    def get_ii_activity_type(self):\n",
    "        dfEvents = self.dfEvents.copy()\n",
    "        dfActivity = dfEvents.loc[(~dfEvents[\"person\"].str.contains(\"ix\",na=False) &\n",
    "                                   ~dfEvents[\"person\"].str.contains(\"rideHailAgent\",na=False) &\n",
    "                                   ~dfEvents[\"person\"].str.contains(\"TransitDriverAgent\",na=False) &\n",
    "                                   (~dfEvents[\"person\"].isna())),:].dropna(subset = [\"tourPurpose\"])\n",
    "        return dfActivity[\"tourPurpose\"].value_counts(normalize=True)\n",
    "\n",
    "    def get_ii_transfers(self):\n",
    "        dfEvents = self.dfEvents.copy()\n",
    "        dfEvents = dfEvents[~dfEvents[\"person\"].str.contains(\"ix\",na=False) & ~dfEvents[\"person\"].str.contains(\"rideHailAgent\",na=False) & ~dfEvents[\"person\"].str.contains(\"TransitDriverAgent\",na=False) & (~dfEvents[\"person\"].isna())].copy()\n",
    "        # dfEvents = dfEvents.loc[(df[\"type\"]==\"ModeChoice\") & (df[\"mode\"]==\"walk_transit\"),:].copy()\n",
    "\n",
    "        dfEvents[\"numberofTransfers\"]=dfEvents.loc[(dfEvents[\"type\"]==\"ModeChoice\") & (dfEvents[\"mode\"]==\"walk_transit\"),:][\"tracingData\"].str[-22:].str.split(\")\",expand=True)[0].str.split(\",\",expand=True)[1]\n",
    "        dfEvents[\"trip_cost_utility\"]=dfEvents.loc[(dfEvents[\"type\"]==\"ModeChoice\") & (dfEvents[\"mode\"]==\"walk_transit\"),:][\"tracingData\"].str[-34:-25].str.split(\",\",expand=True)[1]\n",
    "        dfEvents[\"walkTransitDistances\"] = dfEvents.loc[(dfEvents[\"type\"]==\"ModeChoice\") & (dfEvents[\"mode\"]==\"walk_transit\"),:][\"tracingData\"].str[1:-37].str.split(\",\",expand=True)[1].str.split(\":\",expand=True)[0]\n",
    "        dfEvents[\"walkTransitDistances\"] = pd.to_numeric(dfEvents[\"walkTransitDistances\"], errors='coerce').replace(np.nan,0,regex=True)\n",
    "        dfEvents[\"trip_cost_utility\"] = pd.to_numeric(dfEvents[\"trip_cost_utility\"], errors='coerce').replace(np.nan,0,regex=True)\n",
    "        dfEvents[\"numberofTransfers\"] = pd.to_numeric(dfEvents[\"numberofTransfers\"], errors='coerce').replace(np.nan,0,regex=True).round(0).astype(int)\n",
    "\n",
    "        dData = dfEvents.loc[(dfEvents[\"type\"]==\"ModeChoice\") & (dfEvents[\"mode\"]==\"walk_transit\"),:]\n",
    "        dData.loc[:,\"walkTransitDistances_mil\"] = dData[\"walkTransitDistances\"]*0.000621371\n",
    "\n",
    "        def categorized_distance(cell_value):\n",
    "            if cell_value>1:\n",
    "                walkTransitDistances_cat=\">1mil\"\n",
    "            elif ( cell_value<=1.0) & (cell_value>0.75):\n",
    "                walkTransitDistances_cat=\">0.75mil & <=1mil\"\n",
    "            elif ( cell_value<=0.75) & (cell_value>0.5):\n",
    "                walkTransitDistances_cat=\">0.5mil & <=0.75mil\"\n",
    "            elif (cell_value<=0.50) & (cell_value>0.25):\n",
    "                walkTransitDistances_cat=\">0.25mil & <=0.5mil\"\n",
    "            elif (cell_value<=0.25):\n",
    "                walkTransitDistances_cat=\"<=0.25mil\"\n",
    "            return walkTransitDistances_cat\n",
    "\n",
    "        dData.loc[:,\"walkTransitDistances_cat\"] = dData[\"walkTransitDistances_mil\"].apply(lambda x:categorized_distance(x))\n",
    "\n",
    "        def categorized_transfer(cell_value):\n",
    "            if cell_value==0:\n",
    "                categorized_transfer_cat=\"0\"\n",
    "            elif ( cell_value<=1.0) & (cell_value>0.0):\n",
    "                categorized_transfer_cat=\"1\"\n",
    "            elif (cell_value<=2) & (cell_value>1):\n",
    "                categorized_transfer_cat=\"2\"\n",
    "            elif (cell_value>2):\n",
    "                categorized_transfer_cat=\"3+\"\n",
    "            return categorized_transfer_cat\n",
    "\n",
    "        dData.loc[:,\"numberofTransfers_cat\"] = dData[\"numberofTransfers\"].apply(lambda x:categorized_transfer(x))\n",
    "\n",
    "        transfer_dict = (dData.groupby([\"tourPurpose\", \"numberofTransfers_cat\",\"walkTransitDistances_cat\"]).size().reset_index().rename(columns={0: \"count\"}).groupby(\"tourPurpose\").apply(lambda vehOwntype: dict(vehOwntype.groupby(\"numberofTransfers_cat\").apply(lambda mode_used: dict(zip(mode_used[\"walkTransitDistances_cat\"], mode_used[\"count\"]))))).copy())\n",
    "\n",
    "        for key,values in transfer_dict.iteritems():\n",
    "            # print(key)\n",
    "            cat = [\"0\",\"1\",\"2\",\"3+\"]\n",
    "            for transfer_cat,dist in transfer_dict.get(key).items():\n",
    "                # print(\"\\t\",transfer_cat)\n",
    "                cat.remove(transfer_cat)\n",
    "            for c in cat:\n",
    "                # print(c)\n",
    "                transfer_dict[key][c]={\"<=0.25mil\":0,\">0.25mil & <=0.5mil\":0,\">0.5mil & <=0.75mil\":0,\">0.75mil & <=1mil\":0,\">1mil\":0 }\n",
    "\n",
    "        for key,value in transfer_dict.iteritems():\n",
    "            if isinstance(transfer_dict.get(key),dict):\n",
    "                for transfer,walk_distance in transfer_dict.get(key).items():\n",
    "                    walk_distance_keys = [\"<=0.25mil\",\">0.25mil & <=0.5mil\",\">0.5mil & <=0.75mil\",\">0.75mil & <=1mil\",\">1mil\"]\n",
    "                    if isinstance(walk_distance,dict):\n",
    "                        for cat,count in walk_distance.items():\n",
    "                            if cat in walk_distance_keys:\n",
    "                                walk_distance_keys.remove(cat)\n",
    "                        for cat in walk_distance_keys:\n",
    "                            transfer_dict[key][transfer][cat]=0\n",
    "\n",
    "        return transfer_dict\n",
    "\n",
    "    def get_ii_transfers_firstmile_summary(self):\n",
    "        dfEvents = self.dfEvents.copy()\n",
    "        dfEvents = dfEvents[~dfEvents[\"person\"].str.contains(\"ix\",na=False) & ~dfEvents[\"person\"].str.contains(\"rideHailAgent\",na=False) & ~dfEvents[\"person\"].str.contains(\"TransitDriverAgent\",na=False) & (~dfEvents[\"person\"].isna())].copy()\n",
    "        # dfEvents = dfEvents.loc[(df[\"type\"]==\"ModeChoice\") & (df[\"mode\"]==\"walk_transit\"),:].copy()\n",
    "\n",
    "        dfEvents[\"numberofTransfers\"]=dfEvents.loc[(dfEvents[\"type\"]==\"ModeChoice\") & (dfEvents[\"mode\"]==\"walk_transit\"),:][\"tracingData\"].str[-22:].str.split(\")\",expand=True)[0].str.split(\",\",expand=True)[1]\n",
    "        dfEvents[\"trip_cost_utility\"]=dfEvents.loc[(dfEvents[\"type\"]==\"ModeChoice\") & (dfEvents[\"mode\"]==\"walk_transit\"),:][\"tracingData\"].str[-34:-25].str.split(\",\",expand=True)[1]\n",
    "        dfEvents[\"walkTransitDistances\"] = dfEvents.loc[(dfEvents[\"type\"]==\"ModeChoice\") & (dfEvents[\"mode\"]==\"walk_transit\"),:][\"tracingData\"].str[1:-37].str.split(\",\",expand=True)[1].str.split(\":\",expand=True)[0]\n",
    "\n",
    "        dfEvents[\"walkTransitDistances\"] = pd.to_numeric(dfEvents[\"walkTransitDistances\"], errors='coerce').replace(np.nan,0,regex=True)\n",
    "        dfEvents[\"trip_cost_utility\"] = pd.to_numeric(dfEvents[\"trip_cost_utility\"], errors='coerce').replace(np.nan,0,regex=True)\n",
    "        dfEvents[\"numberofTransfers\"] = pd.to_numeric(dfEvents[\"numberofTransfers\"], errors='coerce').replace(np.nan,0,regex=True).round(0).astype(int)\n",
    "\n",
    "        dData = dfEvents.loc[(dfEvents[\"type\"]==\"ModeChoice\") & (dfEvents[\"mode\"]==\"walk_transit\"),:]\n",
    "        # dData.loc[:,\"walkTransitDistances_mil\"] = dData.loc[:,\"walkTransitDistances\"]*0.000621371\n",
    "        dData.loc[:,\"walkTransitDistances_mil\"] = dData[\"walkTransitDistances\"]*0.000621371\n",
    "\n",
    "        def categorized_distance(cell_value):\n",
    "            if cell_value>1:\n",
    "                walkTransitDistances_cat=\">1mil\"\n",
    "            elif ( cell_value<=1.0) & (cell_value>0.75):\n",
    "                walkTransitDistances_cat=\">0.75mil & <=1mil\"\n",
    "            elif ( cell_value<=0.75) & (cell_value>0.5):\n",
    "                walkTransitDistances_cat=\">0.5mil & <=0.75mil\"\n",
    "            elif (cell_value<=0.50) & (cell_value>0.25):\n",
    "                walkTransitDistances_cat=\">0.25mil & <=0.5mil\"\n",
    "            elif (cell_value<=0.25):\n",
    "                walkTransitDistances_cat=\"<=0.25mil\"\n",
    "            return walkTransitDistances_cat\n",
    "\n",
    "        dData.loc[:,\"walkTransitDistances_cat\"] = dData[\"walkTransitDistances_mil\"].apply(lambda x:categorized_distance(x))\n",
    "\n",
    "        def categorized_transfer(cell_value):\n",
    "            if cell_value==0:\n",
    "                categorized_transfer_cat=\"0\"\n",
    "            elif ( cell_value<=1.0) & (cell_value>0.0):\n",
    "                categorized_transfer_cat=\"1\"\n",
    "            elif (cell_value<=2) & (cell_value>1):\n",
    "                categorized_transfer_cat=\"2\"\n",
    "            elif (cell_value>2):\n",
    "                categorized_transfer_cat=\"3+\"\n",
    "            return categorized_transfer_cat\n",
    "\n",
    "        dData.loc[:,\"numberofTransfers_cat\"] = dData[\"numberofTransfers\"].apply(lambda x:categorized_transfer(x))\n",
    "        transfer_dict = (dData.groupby([\"walkTransitDistances_cat\",\"numberofTransfers_cat\"]).size().reset_index().rename(columns={0: \"count\"}).groupby(\"walkTransitDistances_cat\").apply(lambda mode_used: dict(zip(mode_used[\"numberofTransfers_cat\"], mode_used[\"count\"])))).copy()\n",
    "        for key,values in transfer_dict.iteritems():\n",
    "            cat = [\"0\",\"1\",\"2\",\"3+\"]\n",
    "            if isinstance(values,dict):\n",
    "                for k,v in transfer_dict.get(key).items():\n",
    "                    if k in cat:\n",
    "                        cat.remove(k)\n",
    "                for c in cat:\n",
    "                    transfer_dict[key][c]=0\n",
    "\n",
    "        return transfer_dict\n",
    "\n",
    "    def get_ii_nTransfers(self):\n",
    "        dfEvents = self.dfEvents.copy()\n",
    "        dfEvents = dfEvents[~dfEvents[\"person\"].str.contains(\"ix\",na=False) & ~dfEvents[\"person\"].str.contains(\"rideHailAgent\",na=False) & ~dfEvents[\"person\"].str.contains(\"TransitDriverAgent\",na=False) & (~dfEvents[\"person\"].isna())].copy()\n",
    "        dfEvents[\"numberofTransfers\"]=dfEvents.loc[(dfEvents[\"type\"]==\"ModeChoice\") & (dfEvents[\"mode\"]==\"walk_transit\"),:][\"tracingData\"].str[-22:].str.split(\")\",expand=True)[0].str.split(\",\",expand=True)[1]\n",
    "        dfEvents[\"trip_cost_utility\"]=dfEvents.loc[(dfEvents[\"type\"]==\"ModeChoice\") & (dfEvents[\"mode\"]==\"walk_transit\"),:][\"tracingData\"].str[-34:-25].str.split(\",\",expand=True)[1]\n",
    "        dfEvents[\"walkTransitDistances\"] = dfEvents.loc[(dfEvents[\"type\"]==\"ModeChoice\") & (dfEvents[\"mode\"]==\"walk_transit\"),:][\"tracingData\"].str[1:-37].str.split(\",\",expand=True)[1].str.split(\":\",expand=True)[0]\n",
    "        dfEvents[\"walkTransitDistances\"] = pd.to_numeric(dfEvents[\"walkTransitDistances\"], errors='coerce').replace(np.nan,0,regex=True)\n",
    "        dfEvents[\"trip_cost_utility\"] = pd.to_numeric(dfEvents[\"trip_cost_utility\"], errors='coerce').replace(np.nan,0,regex=True)\n",
    "        dfEvents[\"numberofTransfers\"] = pd.to_numeric(dfEvents[\"numberofTransfers\"], errors='coerce').replace(np.nan,0,regex=True).round(0).astype(int)\n",
    "\n",
    "        dData = dfEvents.loc[(dfEvents[\"type\"]==\"ModeChoice\") & (dfEvents[\"mode\"]==\"walk_transit\"),:]\n",
    "        dData.loc[:,\"walkTransitDistances_mil\"] = dData[\"walkTransitDistances\"]*0.000621371\n",
    "        return dData.copy()"
   ],
   "metadata": {
    "collapsed": false,
    "pycharm": {
     "name": "#%%\n"
    }
   }
  },
  {
   "cell_type": "code",
   "execution_count": 45,
   "outputs": [],
   "source": [
    "dfBayAreaBeamEvents = detailed_events(BASE_DIR.parent.joinpath(\"runs\", simulation_run,\"ITERS\",(\"it.\"+str(last_iter)),(str(last_iter)+\".events.csv.gz\")))\n",
    "dfBayAreaZerothEvents = detailed_events(BASE_DIR.parent.joinpath(\"runs\", simulation_run,\"ITERS\",(\"it.\"+str(first_iter)),(str(first_iter)+\".events.csv.gz\")))"
   ],
   "metadata": {
    "collapsed": false,
    "pycharm": {
     "name": "#%%\n"
    }
   }
  },
  {
   "cell_type": "code",
   "execution_count": 50,
   "outputs": [],
   "source": [
    "dfLast = dfBayAreaBeamEvents.dfEvents\n",
    "dfFirst = dfBayAreaZerothEvents.dfEvents"
   ],
   "metadata": {
    "collapsed": false,
    "pycharm": {
     "name": "#%%\n"
    }
   }
  },
  {
   "cell_type": "code",
   "execution_count": 49,
   "outputs": [
    {
     "data": {
      "text/plain": "       currentTourMode                         driver         vehicle  \\\n0                  NaN                            NaN      BA:23DCM21   \n1                  NaN                            NaN      SF:7634132   \n2                  NaN                            NaN      SF:7600841   \n3                  NaN                            NaN      SF:7580830   \n4                  NaN                            NaN     BA:186OAK10   \n...                ...                            ...             ...   \n892918             NaN                   ix-1298109-1  auto-1298109-1   \n892919             NaN  TransitDriverAgent-SF:7633338      SF:7633338   \n892920             car                   ix-1298109-1  auto-1298109-1   \n892921             NaN  TransitDriverAgent-SF:7600910      SF:7600910   \n892922             NaN  TransitDriverAgent-SF:7633339      SF:7633339   \n\n        numPassengers  vehicleType   primaryFuel  \\\n0                 NaN          NaN           NaN   \n1                 NaN          NaN           NaN   \n2                 NaN          NaN           NaN   \n3                 NaN          NaN           NaN   \n4                 NaN          NaN           NaN   \n...               ...          ...           ...   \n892918            NaN          NaN           NaN   \n892919            0.0  BUS-DEFAULT  1.055335e+07   \n892920            0.0          Car  0.000000e+00   \n892921            0.0  BUS-DEFAULT  4.557793e+06   \n892922            0.0  BUS-DEFAULT  4.708353e+06   \n\n                                            links riders   length  \\\n0                                             NaN    NaN      NaN   \n1                                             NaN    NaN      NaN   \n2                                             NaN    NaN      NaN   \n3                                             NaN    NaN      NaN   \n4                                             NaN    NaN      NaN   \n...                                           ...    ...      ...   \n892918                                        NaN    NaN      NaN   \n892919         18930,96456,1058,18920,50778,52372    NaN  526.404   \n892920                                      58085    NaN    0.000   \n892921              84682,51812,84686,19544,19659    NaN  227.344   \n892922  14366,92034,14374,92038,14460,14540,14552    NaN  234.854   \n\n        seatingCapacity  ...  tracingData  availableAlternatives  \\\n0                   NaN  ...          NaN                    NaN   \n1                   NaN  ...          NaN                    NaN   \n2                   NaN  ...          NaN                    NaN   \n3                   NaN  ...          NaN                    NaN   \n4                   NaN  ...          NaN                    NaN   \n...                 ...  ...          ...                    ...   \n892918              NaN  ...          NaN                    NaN   \n892919              4.0  ...          NaN                    NaN   \n892920              4.0  ...          NaN                    NaN   \n892921              4.0  ...          NaN                    NaN   \n892922              4.0  ...          NaN                    NaN   \n\n        routerAvailableAlternatives  location  personalVehicleAvailable link  \\\n0                               NaN       NaN                       NaN  NaN   \n1                               NaN       NaN                       NaN  NaN   \n2                               NaN       NaN                       NaN  NaN   \n3                               NaN       NaN                       NaN  NaN   \n4                               NaN       NaN                       NaN  NaN   \n...                             ...       ...                       ...  ...   \n892918                          NaN       NaN                       NaN  NaN   \n892919                          NaN       NaN                       NaN  NaN   \n892920                          NaN       NaN                       NaN  NaN   \n892921                          NaN       NaN                       NaN  NaN   \n892922                          NaN       NaN                       NaN  NaN   \n\n        facility  score  reason  Travel_Time  \n0            NaN    NaN     NaN          NaN  \n1            NaN    NaN     NaN          NaN  \n2            NaN    NaN     NaN          NaN  \n3            NaN    NaN     NaN          NaN  \n4            NaN    NaN     NaN          NaN  \n...          ...    ...     ...          ...  \n892918       NaN   -0.0     NaN          NaN  \n892919       NaN    NaN     NaN         39.0  \n892920       NaN    NaN     NaN          0.0  \n892921       NaN    NaN     NaN         22.0  \n892922       NaN    NaN     NaN         36.0  \n\n[892923 rows x 62 columns]",
      "text/html": "<div>\n<style scoped>\n    .dataframe tbody tr th:only-of-type {\n        vertical-align: middle;\n    }\n\n    .dataframe tbody tr th {\n        vertical-align: top;\n    }\n\n    .dataframe thead th {\n        text-align: right;\n    }\n</style>\n<table border=\"1\" class=\"dataframe\">\n  <thead>\n    <tr style=\"text-align: right;\">\n      <th></th>\n      <th>currentTourMode</th>\n      <th>driver</th>\n      <th>vehicle</th>\n      <th>numPassengers</th>\n      <th>vehicleType</th>\n      <th>primaryFuel</th>\n      <th>links</th>\n      <th>riders</th>\n      <th>length</th>\n      <th>seatingCapacity</th>\n      <th>...</th>\n      <th>tracingData</th>\n      <th>availableAlternatives</th>\n      <th>routerAvailableAlternatives</th>\n      <th>location</th>\n      <th>personalVehicleAvailable</th>\n      <th>link</th>\n      <th>facility</th>\n      <th>score</th>\n      <th>reason</th>\n      <th>Travel_Time</th>\n    </tr>\n  </thead>\n  <tbody>\n    <tr>\n      <th>0</th>\n      <td>NaN</td>\n      <td>NaN</td>\n      <td>BA:23DCM21</td>\n      <td>NaN</td>\n      <td>NaN</td>\n      <td>NaN</td>\n      <td>NaN</td>\n      <td>NaN</td>\n      <td>NaN</td>\n      <td>NaN</td>\n      <td>...</td>\n      <td>NaN</td>\n      <td>NaN</td>\n      <td>NaN</td>\n      <td>NaN</td>\n      <td>NaN</td>\n      <td>NaN</td>\n      <td>NaN</td>\n      <td>NaN</td>\n      <td>NaN</td>\n      <td>NaN</td>\n    </tr>\n    <tr>\n      <th>1</th>\n      <td>NaN</td>\n      <td>NaN</td>\n      <td>SF:7634132</td>\n      <td>NaN</td>\n      <td>NaN</td>\n      <td>NaN</td>\n      <td>NaN</td>\n      <td>NaN</td>\n      <td>NaN</td>\n      <td>NaN</td>\n      <td>...</td>\n      <td>NaN</td>\n      <td>NaN</td>\n      <td>NaN</td>\n      <td>NaN</td>\n      <td>NaN</td>\n      <td>NaN</td>\n      <td>NaN</td>\n      <td>NaN</td>\n      <td>NaN</td>\n      <td>NaN</td>\n    </tr>\n    <tr>\n      <th>2</th>\n      <td>NaN</td>\n      <td>NaN</td>\n      <td>SF:7600841</td>\n      <td>NaN</td>\n      <td>NaN</td>\n      <td>NaN</td>\n      <td>NaN</td>\n      <td>NaN</td>\n      <td>NaN</td>\n      <td>NaN</td>\n      <td>...</td>\n      <td>NaN</td>\n      <td>NaN</td>\n      <td>NaN</td>\n      <td>NaN</td>\n      <td>NaN</td>\n      <td>NaN</td>\n      <td>NaN</td>\n      <td>NaN</td>\n      <td>NaN</td>\n      <td>NaN</td>\n    </tr>\n    <tr>\n      <th>3</th>\n      <td>NaN</td>\n      <td>NaN</td>\n      <td>SF:7580830</td>\n      <td>NaN</td>\n      <td>NaN</td>\n      <td>NaN</td>\n      <td>NaN</td>\n      <td>NaN</td>\n      <td>NaN</td>\n      <td>NaN</td>\n      <td>...</td>\n      <td>NaN</td>\n      <td>NaN</td>\n      <td>NaN</td>\n      <td>NaN</td>\n      <td>NaN</td>\n      <td>NaN</td>\n      <td>NaN</td>\n      <td>NaN</td>\n      <td>NaN</td>\n      <td>NaN</td>\n    </tr>\n    <tr>\n      <th>4</th>\n      <td>NaN</td>\n      <td>NaN</td>\n      <td>BA:186OAK10</td>\n      <td>NaN</td>\n      <td>NaN</td>\n      <td>NaN</td>\n      <td>NaN</td>\n      <td>NaN</td>\n      <td>NaN</td>\n      <td>NaN</td>\n      <td>...</td>\n      <td>NaN</td>\n      <td>NaN</td>\n      <td>NaN</td>\n      <td>NaN</td>\n      <td>NaN</td>\n      <td>NaN</td>\n      <td>NaN</td>\n      <td>NaN</td>\n      <td>NaN</td>\n      <td>NaN</td>\n    </tr>\n    <tr>\n      <th>...</th>\n      <td>...</td>\n      <td>...</td>\n      <td>...</td>\n      <td>...</td>\n      <td>...</td>\n      <td>...</td>\n      <td>...</td>\n      <td>...</td>\n      <td>...</td>\n      <td>...</td>\n      <td>...</td>\n      <td>...</td>\n      <td>...</td>\n      <td>...</td>\n      <td>...</td>\n      <td>...</td>\n      <td>...</td>\n      <td>...</td>\n      <td>...</td>\n      <td>...</td>\n      <td>...</td>\n    </tr>\n    <tr>\n      <th>892918</th>\n      <td>NaN</td>\n      <td>ix-1298109-1</td>\n      <td>auto-1298109-1</td>\n      <td>NaN</td>\n      <td>NaN</td>\n      <td>NaN</td>\n      <td>NaN</td>\n      <td>NaN</td>\n      <td>NaN</td>\n      <td>NaN</td>\n      <td>...</td>\n      <td>NaN</td>\n      <td>NaN</td>\n      <td>NaN</td>\n      <td>NaN</td>\n      <td>NaN</td>\n      <td>NaN</td>\n      <td>NaN</td>\n      <td>-0.0</td>\n      <td>NaN</td>\n      <td>NaN</td>\n    </tr>\n    <tr>\n      <th>892919</th>\n      <td>NaN</td>\n      <td>TransitDriverAgent-SF:7633338</td>\n      <td>SF:7633338</td>\n      <td>0.0</td>\n      <td>BUS-DEFAULT</td>\n      <td>1.055335e+07</td>\n      <td>18930,96456,1058,18920,50778,52372</td>\n      <td>NaN</td>\n      <td>526.404</td>\n      <td>4.0</td>\n      <td>...</td>\n      <td>NaN</td>\n      <td>NaN</td>\n      <td>NaN</td>\n      <td>NaN</td>\n      <td>NaN</td>\n      <td>NaN</td>\n      <td>NaN</td>\n      <td>NaN</td>\n      <td>NaN</td>\n      <td>39.0</td>\n    </tr>\n    <tr>\n      <th>892920</th>\n      <td>car</td>\n      <td>ix-1298109-1</td>\n      <td>auto-1298109-1</td>\n      <td>0.0</td>\n      <td>Car</td>\n      <td>0.000000e+00</td>\n      <td>58085</td>\n      <td>NaN</td>\n      <td>0.000</td>\n      <td>4.0</td>\n      <td>...</td>\n      <td>NaN</td>\n      <td>NaN</td>\n      <td>NaN</td>\n      <td>NaN</td>\n      <td>NaN</td>\n      <td>NaN</td>\n      <td>NaN</td>\n      <td>NaN</td>\n      <td>NaN</td>\n      <td>0.0</td>\n    </tr>\n    <tr>\n      <th>892921</th>\n      <td>NaN</td>\n      <td>TransitDriverAgent-SF:7600910</td>\n      <td>SF:7600910</td>\n      <td>0.0</td>\n      <td>BUS-DEFAULT</td>\n      <td>4.557793e+06</td>\n      <td>84682,51812,84686,19544,19659</td>\n      <td>NaN</td>\n      <td>227.344</td>\n      <td>4.0</td>\n      <td>...</td>\n      <td>NaN</td>\n      <td>NaN</td>\n      <td>NaN</td>\n      <td>NaN</td>\n      <td>NaN</td>\n      <td>NaN</td>\n      <td>NaN</td>\n      <td>NaN</td>\n      <td>NaN</td>\n      <td>22.0</td>\n    </tr>\n    <tr>\n      <th>892922</th>\n      <td>NaN</td>\n      <td>TransitDriverAgent-SF:7633339</td>\n      <td>SF:7633339</td>\n      <td>0.0</td>\n      <td>BUS-DEFAULT</td>\n      <td>4.708353e+06</td>\n      <td>14366,92034,14374,92038,14460,14540,14552</td>\n      <td>NaN</td>\n      <td>234.854</td>\n      <td>4.0</td>\n      <td>...</td>\n      <td>NaN</td>\n      <td>NaN</td>\n      <td>NaN</td>\n      <td>NaN</td>\n      <td>NaN</td>\n      <td>NaN</td>\n      <td>NaN</td>\n      <td>NaN</td>\n      <td>NaN</td>\n      <td>36.0</td>\n    </tr>\n  </tbody>\n</table>\n<p>892923 rows × 62 columns</p>\n</div>"
     },
     "execution_count": 49,
     "metadata": {},
     "output_type": "execute_result"
    }
   ],
   "source": [
    "dfFirst"
   ],
   "metadata": {
    "collapsed": false,
    "pycharm": {
     "name": "#%%\n"
    }
   }
  },
  {
   "cell_type": "code",
   "execution_count": 57,
   "outputs": [
    {
     "name": "stdout",
     "output_type": "stream",
     "text": [
      "Agent ID: 36470-3\n"
     ]
    },
    {
     "name": "stderr",
     "output_type": "stream",
     "text": [
      "C:\\Users\\Goyal\\AppData\\Local\\Temp\\ipykernel_18028\\3093927051.py:270: SettingWithCopyWarning: \n",
      "A value is trying to be set on a copy of a slice from a DataFrame.\n",
      "Try using .loc[row_indexer,col_indexer] = value instead\n",
      "\n",
      "See the caveats in the documentation: https://pandas.pydata.org/pandas-docs/stable/user_guide/indexing.html#returning-a-view-versus-a-copy\n"
     ]
    }
   ],
   "source": [
    "import random\n",
    "\n",
    "# get the number of transfers pic\n",
    "# df = dfBayAreaBeamEvents.dfEvents\n",
    "df = dfBayAreaBeamEvents.get_ii_nTransfers()\n",
    "\n",
    "person_list = df.loc[df[\"numberofTransfers\"]>=2, \"person\"].to_list()\n",
    "personid = random.choice(person_list)\n",
    "print(f\"Agent ID: {personid}\")\n",
    "# df.loc[df[\"numberofTransfers\"]>1,[\"person\",\"numberofTransfers\"]].to_csv(BASE_DIR.parent.joinpath(\"exported\", f\"FinalIteration-2andup_transfer_agents.csv\"))\n",
    "# dfLast = dfBayAreaBeamEvents.dfEvents\n",
    "\n",
    "dfLast.loc[dfLast[\"person\"]==personid].to_csv(BASE_DIR.parent.joinpath(\"exported\", f\"FinalIteration-agent-{personid}.csv\"))\n",
    "\n",
    "# dfFirst = dfBayAreaZerothEvents.dfEvents\n",
    "dfFirst.loc[dfFirst[\"person\"]==personid].to_csv(BASE_DIR.parent.joinpath(\"exported\", f\"ZeroIteration-agent-{personid}.csv\"))"
   ],
   "metadata": {
    "collapsed": false,
    "pycharm": {
     "name": "#%%\n"
    }
   }
  },
  {
   "cell_type": "code",
   "execution_count": 59,
   "outputs": [],
   "source": [
    "df = pd.read_csv((BASE_DIR.parent.joinpath(\"runs\",simulation_run,\"ITERS\",(\"it.\"+str(last_iter)),(str(last_iter)+\".physSimEvents.csv.gz\"))))"
   ],
   "metadata": {
    "collapsed": false,
    "pycharm": {
     "name": "#%%\n"
    }
   }
  },
  {
   "cell_type": "code",
   "execution_count": 62,
   "outputs": [
    {
     "data": {
      "text/plain": "            person   link legMode          time                    type  \\\n93334   SF:7676689  97034     NaN  22471.000000                  actend   \n93335   SF:7676689  97034     car  22471.000100               departure   \n93337   SF:7676689  97034     NaN  22471.001000  vehicle enters traffic   \n99628   SF:7676689  13378     NaN  22881.783609  vehicle leaves traffic   \n99629   SF:7676689  13378     car  22881.783709                 arrival   \n99630   SF:7676689  13378     NaN  22881.783809                actstart   \n99631   SF:7676689  13378     NaN  22881.784609                  actend   \n99632   SF:7676689  13378     car  22881.784709               departure   \n99633   SF:7676689  13378     NaN  22881.785609  vehicle enters traffic   \n100217  SF:7676689  41449     NaN  22923.905961  vehicle leaves traffic   \n100218  SF:7676689  41449     car  22923.906061                 arrival   \n100219  SF:7676689  41449     NaN  22923.906161                actstart   \n114408  SF:7676689  41449     NaN  23794.000000                  actend   \n114409  SF:7676689  41449     car  23794.000100               departure   \n114412  SF:7676689  41568     NaN  23794.001000  vehicle leaves traffic   \n114413  SF:7676689  41568     car  23794.001100                 arrival   \n114414  SF:7676689  41568     NaN  23794.001200                actstart   \n119360  SF:7676689  41568     NaN  24068.000000                  actend   \n119361  SF:7676689  41568     car  24068.000100               departure   \n119362  SF:7676689  41568     NaN  24068.001000  vehicle enters traffic   \n119923  SF:7676689  40190     NaN  24101.134846  vehicle leaves traffic   \n119924  SF:7676689  40190     car  24101.134946                 arrival   \n119925  SF:7676689  40190     NaN  24101.135046                actstart   \n128072  SF:7676689  40190     NaN  24499.000000                  actend   \n128073  SF:7676689  40190     car  24499.000100               departure   \n128074  SF:7676689  40190     NaN  24499.001000  vehicle enters traffic   \n129115  SF:7676689  40390     NaN  24546.890658  vehicle leaves traffic   \n129116  SF:7676689  40390     car  24546.890758                 arrival   \n129117  SF:7676689  40390     NaN  24546.890858                actstart   \n\n           vehicle  mode  currentTourMode  income  expectedMaximumUtility  \\\n93334          NaN   NaN              NaN     NaN                     NaN   \n93335          NaN   NaN              NaN     NaN                     NaN   \n93337   SF:7676689   NaN              NaN     NaN                     NaN   \n99628   SF:7676689   NaN              NaN     NaN                     NaN   \n99629          NaN   NaN              NaN     NaN                     NaN   \n99630          NaN   NaN              NaN     NaN                     NaN   \n99631          NaN   NaN              NaN     NaN                     NaN   \n99632          NaN   NaN              NaN     NaN                     NaN   \n99633   SF:7676689   NaN              NaN     NaN                     NaN   \n100217  SF:7676689   NaN              NaN     NaN                     NaN   \n100218         NaN   NaN              NaN     NaN                     NaN   \n100219         NaN   NaN              NaN     NaN                     NaN   \n114408         NaN   NaN              NaN     NaN                     NaN   \n114409         NaN   NaN              NaN     NaN                     NaN   \n114412  SF:7676689   NaN              NaN     NaN                     NaN   \n114413         NaN   NaN              NaN     NaN                     NaN   \n114414         NaN   NaN              NaN     NaN                     NaN   \n119360         NaN   NaN              NaN     NaN                     NaN   \n119361         NaN   NaN              NaN     NaN                     NaN   \n119362  SF:7676689   NaN              NaN     NaN                     NaN   \n119923  SF:7676689   NaN              NaN     NaN                     NaN   \n119924         NaN   NaN              NaN     NaN                     NaN   \n119925         NaN   NaN              NaN     NaN                     NaN   \n128072         NaN   NaN              NaN     NaN                     NaN   \n128073         NaN   NaN              NaN     NaN                     NaN   \n128074  SF:7676689   NaN              NaN     NaN                     NaN   \n129115  SF:7676689   NaN              NaN     NaN                     NaN   \n129116         NaN   NaN              NaN     NaN                     NaN   \n129117         NaN   NaN              NaN     NaN                     NaN   \n\n        ...  length  tourIndex  tourPurpose  facility        actType  \\\n93334   ...     NaN        NaN          NaN       NaN  DummyActivity   \n93335   ...     NaN        NaN          NaN       NaN            NaN   \n93337   ...     NaN        NaN          NaN       NaN            NaN   \n99628   ...     NaN        NaN          NaN       NaN            NaN   \n99629   ...     NaN        NaN          NaN       NaN            NaN   \n99630   ...     NaN        NaN          NaN       NaN  DummyActivity   \n99631   ...     NaN        NaN          NaN       NaN  DummyActivity   \n99632   ...     NaN        NaN          NaN       NaN            NaN   \n99633   ...     NaN        NaN          NaN       NaN            NaN   \n100217  ...     NaN        NaN          NaN       NaN            NaN   \n100218  ...     NaN        NaN          NaN       NaN            NaN   \n100219  ...     NaN        NaN          NaN       NaN  DummyActivity   \n114408  ...     NaN        NaN          NaN       NaN  DummyActivity   \n114409  ...     NaN        NaN          NaN       NaN            NaN   \n114412  ...     NaN        NaN          NaN       NaN            NaN   \n114413  ...     NaN        NaN          NaN       NaN            NaN   \n114414  ...     NaN        NaN          NaN       NaN  DummyActivity   \n119360  ...     NaN        NaN          NaN       NaN  DummyActivity   \n119361  ...     NaN        NaN          NaN       NaN            NaN   \n119362  ...     NaN        NaN          NaN       NaN            NaN   \n119923  ...     NaN        NaN          NaN       NaN            NaN   \n119924  ...     NaN        NaN          NaN       NaN            NaN   \n119925  ...     NaN        NaN          NaN       NaN  DummyActivity   \n128072  ...     NaN        NaN          NaN       NaN  DummyActivity   \n128073  ...     NaN        NaN          NaN       NaN            NaN   \n128074  ...     NaN        NaN          NaN       NaN            NaN   \n129115  ...     NaN        NaN          NaN       NaN            NaN   \n129116  ...     NaN        NaN          NaN       NaN            NaN   \n129117  ...     NaN        NaN          NaN       NaN  DummyActivity   \n\n        activityIndex  locationX  locationY  networkMode  relativePosition  \n93334             NaN        NaN        NaN          NaN               NaN  \n93335             NaN        NaN        NaN          NaN               NaN  \n93337             NaN        NaN        NaN          NaN               1.0  \n99628             NaN        NaN        NaN          car               1.0  \n99629             NaN        NaN        NaN          NaN               NaN  \n99630             NaN        NaN        NaN          NaN               NaN  \n99631             NaN        NaN        NaN          NaN               NaN  \n99632             NaN        NaN        NaN          NaN               NaN  \n99633             NaN        NaN        NaN          NaN               1.0  \n100217            NaN        NaN        NaN          car               1.0  \n100218            NaN        NaN        NaN          NaN               NaN  \n100219            NaN        NaN        NaN          NaN               NaN  \n114408            NaN        NaN        NaN          NaN               NaN  \n114409            NaN        NaN        NaN          NaN               NaN  \n114412            NaN        NaN        NaN          car               1.0  \n114413            NaN        NaN        NaN          NaN               NaN  \n114414            NaN        NaN        NaN          NaN               NaN  \n119360            NaN        NaN        NaN          NaN               NaN  \n119361            NaN        NaN        NaN          NaN               NaN  \n119362            NaN        NaN        NaN          NaN               1.0  \n119923            NaN        NaN        NaN          car               1.0  \n119924            NaN        NaN        NaN          NaN               NaN  \n119925            NaN        NaN        NaN          NaN               NaN  \n128072            NaN        NaN        NaN          NaN               NaN  \n128073            NaN        NaN        NaN          NaN               NaN  \n128074            NaN        NaN        NaN          NaN               1.0  \n129115            NaN        NaN        NaN          car               1.0  \n129116            NaN        NaN        NaN          NaN               NaN  \n129117            NaN        NaN        NaN          NaN               NaN  \n\n[29 rows x 28 columns]",
      "text/html": "<div>\n<style scoped>\n    .dataframe tbody tr th:only-of-type {\n        vertical-align: middle;\n    }\n\n    .dataframe tbody tr th {\n        vertical-align: top;\n    }\n\n    .dataframe thead th {\n        text-align: right;\n    }\n</style>\n<table border=\"1\" class=\"dataframe\">\n  <thead>\n    <tr style=\"text-align: right;\">\n      <th></th>\n      <th>person</th>\n      <th>link</th>\n      <th>legMode</th>\n      <th>time</th>\n      <th>type</th>\n      <th>vehicle</th>\n      <th>mode</th>\n      <th>currentTourMode</th>\n      <th>income</th>\n      <th>expectedMaximumUtility</th>\n      <th>...</th>\n      <th>length</th>\n      <th>tourIndex</th>\n      <th>tourPurpose</th>\n      <th>facility</th>\n      <th>actType</th>\n      <th>activityIndex</th>\n      <th>locationX</th>\n      <th>locationY</th>\n      <th>networkMode</th>\n      <th>relativePosition</th>\n    </tr>\n  </thead>\n  <tbody>\n    <tr>\n      <th>93334</th>\n      <td>SF:7676689</td>\n      <td>97034</td>\n      <td>NaN</td>\n      <td>22471.000000</td>\n      <td>actend</td>\n      <td>NaN</td>\n      <td>NaN</td>\n      <td>NaN</td>\n      <td>NaN</td>\n      <td>NaN</td>\n      <td>...</td>\n      <td>NaN</td>\n      <td>NaN</td>\n      <td>NaN</td>\n      <td>NaN</td>\n      <td>DummyActivity</td>\n      <td>NaN</td>\n      <td>NaN</td>\n      <td>NaN</td>\n      <td>NaN</td>\n      <td>NaN</td>\n    </tr>\n    <tr>\n      <th>93335</th>\n      <td>SF:7676689</td>\n      <td>97034</td>\n      <td>car</td>\n      <td>22471.000100</td>\n      <td>departure</td>\n      <td>NaN</td>\n      <td>NaN</td>\n      <td>NaN</td>\n      <td>NaN</td>\n      <td>NaN</td>\n      <td>...</td>\n      <td>NaN</td>\n      <td>NaN</td>\n      <td>NaN</td>\n      <td>NaN</td>\n      <td>NaN</td>\n      <td>NaN</td>\n      <td>NaN</td>\n      <td>NaN</td>\n      <td>NaN</td>\n      <td>NaN</td>\n    </tr>\n    <tr>\n      <th>93337</th>\n      <td>SF:7676689</td>\n      <td>97034</td>\n      <td>NaN</td>\n      <td>22471.001000</td>\n      <td>vehicle enters traffic</td>\n      <td>SF:7676689</td>\n      <td>NaN</td>\n      <td>NaN</td>\n      <td>NaN</td>\n      <td>NaN</td>\n      <td>...</td>\n      <td>NaN</td>\n      <td>NaN</td>\n      <td>NaN</td>\n      <td>NaN</td>\n      <td>NaN</td>\n      <td>NaN</td>\n      <td>NaN</td>\n      <td>NaN</td>\n      <td>NaN</td>\n      <td>1.0</td>\n    </tr>\n    <tr>\n      <th>99628</th>\n      <td>SF:7676689</td>\n      <td>13378</td>\n      <td>NaN</td>\n      <td>22881.783609</td>\n      <td>vehicle leaves traffic</td>\n      <td>SF:7676689</td>\n      <td>NaN</td>\n      <td>NaN</td>\n      <td>NaN</td>\n      <td>NaN</td>\n      <td>...</td>\n      <td>NaN</td>\n      <td>NaN</td>\n      <td>NaN</td>\n      <td>NaN</td>\n      <td>NaN</td>\n      <td>NaN</td>\n      <td>NaN</td>\n      <td>NaN</td>\n      <td>car</td>\n      <td>1.0</td>\n    </tr>\n    <tr>\n      <th>99629</th>\n      <td>SF:7676689</td>\n      <td>13378</td>\n      <td>car</td>\n      <td>22881.783709</td>\n      <td>arrival</td>\n      <td>NaN</td>\n      <td>NaN</td>\n      <td>NaN</td>\n      <td>NaN</td>\n      <td>NaN</td>\n      <td>...</td>\n      <td>NaN</td>\n      <td>NaN</td>\n      <td>NaN</td>\n      <td>NaN</td>\n      <td>NaN</td>\n      <td>NaN</td>\n      <td>NaN</td>\n      <td>NaN</td>\n      <td>NaN</td>\n      <td>NaN</td>\n    </tr>\n    <tr>\n      <th>99630</th>\n      <td>SF:7676689</td>\n      <td>13378</td>\n      <td>NaN</td>\n      <td>22881.783809</td>\n      <td>actstart</td>\n      <td>NaN</td>\n      <td>NaN</td>\n      <td>NaN</td>\n      <td>NaN</td>\n      <td>NaN</td>\n      <td>...</td>\n      <td>NaN</td>\n      <td>NaN</td>\n      <td>NaN</td>\n      <td>NaN</td>\n      <td>DummyActivity</td>\n      <td>NaN</td>\n      <td>NaN</td>\n      <td>NaN</td>\n      <td>NaN</td>\n      <td>NaN</td>\n    </tr>\n    <tr>\n      <th>99631</th>\n      <td>SF:7676689</td>\n      <td>13378</td>\n      <td>NaN</td>\n      <td>22881.784609</td>\n      <td>actend</td>\n      <td>NaN</td>\n      <td>NaN</td>\n      <td>NaN</td>\n      <td>NaN</td>\n      <td>NaN</td>\n      <td>...</td>\n      <td>NaN</td>\n      <td>NaN</td>\n      <td>NaN</td>\n      <td>NaN</td>\n      <td>DummyActivity</td>\n      <td>NaN</td>\n      <td>NaN</td>\n      <td>NaN</td>\n      <td>NaN</td>\n      <td>NaN</td>\n    </tr>\n    <tr>\n      <th>99632</th>\n      <td>SF:7676689</td>\n      <td>13378</td>\n      <td>car</td>\n      <td>22881.784709</td>\n      <td>departure</td>\n      <td>NaN</td>\n      <td>NaN</td>\n      <td>NaN</td>\n      <td>NaN</td>\n      <td>NaN</td>\n      <td>...</td>\n      <td>NaN</td>\n      <td>NaN</td>\n      <td>NaN</td>\n      <td>NaN</td>\n      <td>NaN</td>\n      <td>NaN</td>\n      <td>NaN</td>\n      <td>NaN</td>\n      <td>NaN</td>\n      <td>NaN</td>\n    </tr>\n    <tr>\n      <th>99633</th>\n      <td>SF:7676689</td>\n      <td>13378</td>\n      <td>NaN</td>\n      <td>22881.785609</td>\n      <td>vehicle enters traffic</td>\n      <td>SF:7676689</td>\n      <td>NaN</td>\n      <td>NaN</td>\n      <td>NaN</td>\n      <td>NaN</td>\n      <td>...</td>\n      <td>NaN</td>\n      <td>NaN</td>\n      <td>NaN</td>\n      <td>NaN</td>\n      <td>NaN</td>\n      <td>NaN</td>\n      <td>NaN</td>\n      <td>NaN</td>\n      <td>NaN</td>\n      <td>1.0</td>\n    </tr>\n    <tr>\n      <th>100217</th>\n      <td>SF:7676689</td>\n      <td>41449</td>\n      <td>NaN</td>\n      <td>22923.905961</td>\n      <td>vehicle leaves traffic</td>\n      <td>SF:7676689</td>\n      <td>NaN</td>\n      <td>NaN</td>\n      <td>NaN</td>\n      <td>NaN</td>\n      <td>...</td>\n      <td>NaN</td>\n      <td>NaN</td>\n      <td>NaN</td>\n      <td>NaN</td>\n      <td>NaN</td>\n      <td>NaN</td>\n      <td>NaN</td>\n      <td>NaN</td>\n      <td>car</td>\n      <td>1.0</td>\n    </tr>\n    <tr>\n      <th>100218</th>\n      <td>SF:7676689</td>\n      <td>41449</td>\n      <td>car</td>\n      <td>22923.906061</td>\n      <td>arrival</td>\n      <td>NaN</td>\n      <td>NaN</td>\n      <td>NaN</td>\n      <td>NaN</td>\n      <td>NaN</td>\n      <td>...</td>\n      <td>NaN</td>\n      <td>NaN</td>\n      <td>NaN</td>\n      <td>NaN</td>\n      <td>NaN</td>\n      <td>NaN</td>\n      <td>NaN</td>\n      <td>NaN</td>\n      <td>NaN</td>\n      <td>NaN</td>\n    </tr>\n    <tr>\n      <th>100219</th>\n      <td>SF:7676689</td>\n      <td>41449</td>\n      <td>NaN</td>\n      <td>22923.906161</td>\n      <td>actstart</td>\n      <td>NaN</td>\n      <td>NaN</td>\n      <td>NaN</td>\n      <td>NaN</td>\n      <td>NaN</td>\n      <td>...</td>\n      <td>NaN</td>\n      <td>NaN</td>\n      <td>NaN</td>\n      <td>NaN</td>\n      <td>DummyActivity</td>\n      <td>NaN</td>\n      <td>NaN</td>\n      <td>NaN</td>\n      <td>NaN</td>\n      <td>NaN</td>\n    </tr>\n    <tr>\n      <th>114408</th>\n      <td>SF:7676689</td>\n      <td>41449</td>\n      <td>NaN</td>\n      <td>23794.000000</td>\n      <td>actend</td>\n      <td>NaN</td>\n      <td>NaN</td>\n      <td>NaN</td>\n      <td>NaN</td>\n      <td>NaN</td>\n      <td>...</td>\n      <td>NaN</td>\n      <td>NaN</td>\n      <td>NaN</td>\n      <td>NaN</td>\n      <td>DummyActivity</td>\n      <td>NaN</td>\n      <td>NaN</td>\n      <td>NaN</td>\n      <td>NaN</td>\n      <td>NaN</td>\n    </tr>\n    <tr>\n      <th>114409</th>\n      <td>SF:7676689</td>\n      <td>41449</td>\n      <td>car</td>\n      <td>23794.000100</td>\n      <td>departure</td>\n      <td>NaN</td>\n      <td>NaN</td>\n      <td>NaN</td>\n      <td>NaN</td>\n      <td>NaN</td>\n      <td>...</td>\n      <td>NaN</td>\n      <td>NaN</td>\n      <td>NaN</td>\n      <td>NaN</td>\n      <td>NaN</td>\n      <td>NaN</td>\n      <td>NaN</td>\n      <td>NaN</td>\n      <td>NaN</td>\n      <td>NaN</td>\n    </tr>\n    <tr>\n      <th>114412</th>\n      <td>SF:7676689</td>\n      <td>41568</td>\n      <td>NaN</td>\n      <td>23794.001000</td>\n      <td>vehicle leaves traffic</td>\n      <td>SF:7676689</td>\n      <td>NaN</td>\n      <td>NaN</td>\n      <td>NaN</td>\n      <td>NaN</td>\n      <td>...</td>\n      <td>NaN</td>\n      <td>NaN</td>\n      <td>NaN</td>\n      <td>NaN</td>\n      <td>NaN</td>\n      <td>NaN</td>\n      <td>NaN</td>\n      <td>NaN</td>\n      <td>car</td>\n      <td>1.0</td>\n    </tr>\n    <tr>\n      <th>114413</th>\n      <td>SF:7676689</td>\n      <td>41568</td>\n      <td>car</td>\n      <td>23794.001100</td>\n      <td>arrival</td>\n      <td>NaN</td>\n      <td>NaN</td>\n      <td>NaN</td>\n      <td>NaN</td>\n      <td>NaN</td>\n      <td>...</td>\n      <td>NaN</td>\n      <td>NaN</td>\n      <td>NaN</td>\n      <td>NaN</td>\n      <td>NaN</td>\n      <td>NaN</td>\n      <td>NaN</td>\n      <td>NaN</td>\n      <td>NaN</td>\n      <td>NaN</td>\n    </tr>\n    <tr>\n      <th>114414</th>\n      <td>SF:7676689</td>\n      <td>41568</td>\n      <td>NaN</td>\n      <td>23794.001200</td>\n      <td>actstart</td>\n      <td>NaN</td>\n      <td>NaN</td>\n      <td>NaN</td>\n      <td>NaN</td>\n      <td>NaN</td>\n      <td>...</td>\n      <td>NaN</td>\n      <td>NaN</td>\n      <td>NaN</td>\n      <td>NaN</td>\n      <td>DummyActivity</td>\n      <td>NaN</td>\n      <td>NaN</td>\n      <td>NaN</td>\n      <td>NaN</td>\n      <td>NaN</td>\n    </tr>\n    <tr>\n      <th>119360</th>\n      <td>SF:7676689</td>\n      <td>41568</td>\n      <td>NaN</td>\n      <td>24068.000000</td>\n      <td>actend</td>\n      <td>NaN</td>\n      <td>NaN</td>\n      <td>NaN</td>\n      <td>NaN</td>\n      <td>NaN</td>\n      <td>...</td>\n      <td>NaN</td>\n      <td>NaN</td>\n      <td>NaN</td>\n      <td>NaN</td>\n      <td>DummyActivity</td>\n      <td>NaN</td>\n      <td>NaN</td>\n      <td>NaN</td>\n      <td>NaN</td>\n      <td>NaN</td>\n    </tr>\n    <tr>\n      <th>119361</th>\n      <td>SF:7676689</td>\n      <td>41568</td>\n      <td>car</td>\n      <td>24068.000100</td>\n      <td>departure</td>\n      <td>NaN</td>\n      <td>NaN</td>\n      <td>NaN</td>\n      <td>NaN</td>\n      <td>NaN</td>\n      <td>...</td>\n      <td>NaN</td>\n      <td>NaN</td>\n      <td>NaN</td>\n      <td>NaN</td>\n      <td>NaN</td>\n      <td>NaN</td>\n      <td>NaN</td>\n      <td>NaN</td>\n      <td>NaN</td>\n      <td>NaN</td>\n    </tr>\n    <tr>\n      <th>119362</th>\n      <td>SF:7676689</td>\n      <td>41568</td>\n      <td>NaN</td>\n      <td>24068.001000</td>\n      <td>vehicle enters traffic</td>\n      <td>SF:7676689</td>\n      <td>NaN</td>\n      <td>NaN</td>\n      <td>NaN</td>\n      <td>NaN</td>\n      <td>...</td>\n      <td>NaN</td>\n      <td>NaN</td>\n      <td>NaN</td>\n      <td>NaN</td>\n      <td>NaN</td>\n      <td>NaN</td>\n      <td>NaN</td>\n      <td>NaN</td>\n      <td>NaN</td>\n      <td>1.0</td>\n    </tr>\n    <tr>\n      <th>119923</th>\n      <td>SF:7676689</td>\n      <td>40190</td>\n      <td>NaN</td>\n      <td>24101.134846</td>\n      <td>vehicle leaves traffic</td>\n      <td>SF:7676689</td>\n      <td>NaN</td>\n      <td>NaN</td>\n      <td>NaN</td>\n      <td>NaN</td>\n      <td>...</td>\n      <td>NaN</td>\n      <td>NaN</td>\n      <td>NaN</td>\n      <td>NaN</td>\n      <td>NaN</td>\n      <td>NaN</td>\n      <td>NaN</td>\n      <td>NaN</td>\n      <td>car</td>\n      <td>1.0</td>\n    </tr>\n    <tr>\n      <th>119924</th>\n      <td>SF:7676689</td>\n      <td>40190</td>\n      <td>car</td>\n      <td>24101.134946</td>\n      <td>arrival</td>\n      <td>NaN</td>\n      <td>NaN</td>\n      <td>NaN</td>\n      <td>NaN</td>\n      <td>NaN</td>\n      <td>...</td>\n      <td>NaN</td>\n      <td>NaN</td>\n      <td>NaN</td>\n      <td>NaN</td>\n      <td>NaN</td>\n      <td>NaN</td>\n      <td>NaN</td>\n      <td>NaN</td>\n      <td>NaN</td>\n      <td>NaN</td>\n    </tr>\n    <tr>\n      <th>119925</th>\n      <td>SF:7676689</td>\n      <td>40190</td>\n      <td>NaN</td>\n      <td>24101.135046</td>\n      <td>actstart</td>\n      <td>NaN</td>\n      <td>NaN</td>\n      <td>NaN</td>\n      <td>NaN</td>\n      <td>NaN</td>\n      <td>...</td>\n      <td>NaN</td>\n      <td>NaN</td>\n      <td>NaN</td>\n      <td>NaN</td>\n      <td>DummyActivity</td>\n      <td>NaN</td>\n      <td>NaN</td>\n      <td>NaN</td>\n      <td>NaN</td>\n      <td>NaN</td>\n    </tr>\n    <tr>\n      <th>128072</th>\n      <td>SF:7676689</td>\n      <td>40190</td>\n      <td>NaN</td>\n      <td>24499.000000</td>\n      <td>actend</td>\n      <td>NaN</td>\n      <td>NaN</td>\n      <td>NaN</td>\n      <td>NaN</td>\n      <td>NaN</td>\n      <td>...</td>\n      <td>NaN</td>\n      <td>NaN</td>\n      <td>NaN</td>\n      <td>NaN</td>\n      <td>DummyActivity</td>\n      <td>NaN</td>\n      <td>NaN</td>\n      <td>NaN</td>\n      <td>NaN</td>\n      <td>NaN</td>\n    </tr>\n    <tr>\n      <th>128073</th>\n      <td>SF:7676689</td>\n      <td>40190</td>\n      <td>car</td>\n      <td>24499.000100</td>\n      <td>departure</td>\n      <td>NaN</td>\n      <td>NaN</td>\n      <td>NaN</td>\n      <td>NaN</td>\n      <td>NaN</td>\n      <td>...</td>\n      <td>NaN</td>\n      <td>NaN</td>\n      <td>NaN</td>\n      <td>NaN</td>\n      <td>NaN</td>\n      <td>NaN</td>\n      <td>NaN</td>\n      <td>NaN</td>\n      <td>NaN</td>\n      <td>NaN</td>\n    </tr>\n    <tr>\n      <th>128074</th>\n      <td>SF:7676689</td>\n      <td>40190</td>\n      <td>NaN</td>\n      <td>24499.001000</td>\n      <td>vehicle enters traffic</td>\n      <td>SF:7676689</td>\n      <td>NaN</td>\n      <td>NaN</td>\n      <td>NaN</td>\n      <td>NaN</td>\n      <td>...</td>\n      <td>NaN</td>\n      <td>NaN</td>\n      <td>NaN</td>\n      <td>NaN</td>\n      <td>NaN</td>\n      <td>NaN</td>\n      <td>NaN</td>\n      <td>NaN</td>\n      <td>NaN</td>\n      <td>1.0</td>\n    </tr>\n    <tr>\n      <th>129115</th>\n      <td>SF:7676689</td>\n      <td>40390</td>\n      <td>NaN</td>\n      <td>24546.890658</td>\n      <td>vehicle leaves traffic</td>\n      <td>SF:7676689</td>\n      <td>NaN</td>\n      <td>NaN</td>\n      <td>NaN</td>\n      <td>NaN</td>\n      <td>...</td>\n      <td>NaN</td>\n      <td>NaN</td>\n      <td>NaN</td>\n      <td>NaN</td>\n      <td>NaN</td>\n      <td>NaN</td>\n      <td>NaN</td>\n      <td>NaN</td>\n      <td>car</td>\n      <td>1.0</td>\n    </tr>\n    <tr>\n      <th>129116</th>\n      <td>SF:7676689</td>\n      <td>40390</td>\n      <td>car</td>\n      <td>24546.890758</td>\n      <td>arrival</td>\n      <td>NaN</td>\n      <td>NaN</td>\n      <td>NaN</td>\n      <td>NaN</td>\n      <td>NaN</td>\n      <td>...</td>\n      <td>NaN</td>\n      <td>NaN</td>\n      <td>NaN</td>\n      <td>NaN</td>\n      <td>NaN</td>\n      <td>NaN</td>\n      <td>NaN</td>\n      <td>NaN</td>\n      <td>NaN</td>\n      <td>NaN</td>\n    </tr>\n    <tr>\n      <th>129117</th>\n      <td>SF:7676689</td>\n      <td>40390</td>\n      <td>NaN</td>\n      <td>24546.890858</td>\n      <td>actstart</td>\n      <td>NaN</td>\n      <td>NaN</td>\n      <td>NaN</td>\n      <td>NaN</td>\n      <td>NaN</td>\n      <td>...</td>\n      <td>NaN</td>\n      <td>NaN</td>\n      <td>NaN</td>\n      <td>NaN</td>\n      <td>DummyActivity</td>\n      <td>NaN</td>\n      <td>NaN</td>\n      <td>NaN</td>\n      <td>NaN</td>\n      <td>NaN</td>\n    </tr>\n  </tbody>\n</table>\n<p>29 rows × 28 columns</p>\n</div>"
     },
     "execution_count": 62,
     "metadata": {},
     "output_type": "execute_result"
    }
   ],
   "source": [
    "df.loc[df[\"person\"]==\"SF:7676689\"]"
   ],
   "metadata": {
    "collapsed": false,
    "pycharm": {
     "name": "#%%\n"
    }
   }
  },
  {
   "cell_type": "code",
   "execution_count": 64,
   "outputs": [],
   "source": [
    "df = pd.read_csv((BASE_DIR.parent.joinpath(\"runs\",simulation_run,\"network.csv\")))"
   ],
   "metadata": {
    "collapsed": false,
    "pycharm": {
     "name": "#%%\n"
    }
   }
  },
  {
   "cell_type": "code",
   "execution_count": 69,
   "outputs": [
    {
     "data": {
      "text/plain": "       linkId  linkLength  linkFreeSpeed  linkCapacity  numberOfLanes  \\\n0           0     244.148          26.82        7600.0            4.0   \n1           1     244.148          26.82        7600.0            4.0   \n2          10     330.865           8.69         950.0            1.0   \n3         100     224.255           7.45         350.0            1.0   \n4        1000     146.746           8.69        1600.0            2.0   \n...       ...         ...            ...           ...            ...   \n97195    9995     131.358           7.45         650.0            1.0   \n97196    9996     113.027           7.45         300.0            1.0   \n97197    9997     113.027           7.45         300.0            1.0   \n97198    9998     100.913           7.45         300.0            1.0   \n97199    9999     100.913           7.45         300.0            1.0   \n\n           linkModes  attributeOrigId attributeOrigType  fromNodeId  toNodeId  \\\n0      car;walk;bike              1.0           freeway           0         1   \n1          walk;bike              1.0           freeway           1         0   \n2      car;walk;bike              6.0      maj_arterial           8        10   \n3      car;walk;bike             51.0             local          63        64   \n4      car;walk;bike            501.0    minor_arterial         354       294   \n...              ...              ...               ...         ...       ...   \n97195      walk;bike           4998.0         collector        2360      2453   \n97196  car;walk;bike           4999.0             local        2536      2453   \n97197      walk;bike           4999.0             local        2453      2536   \n97198  car;walk;bike           5000.0             local        2536      2538   \n97199      walk;bike           5000.0             local        2538      2536   \n\n       fromLocationX  fromLocationY    toLocationX   toLocationY  \n0      553350.000950   4.173346e+06  553320.943482  4.173588e+06  \n1      553320.943482   4.173588e+06  553350.000950  4.173346e+06  \n2      546770.002863   4.173201e+06  546668.684147  4.173516e+06  \n3      554880.077637   4.176043e+06  554685.532201  4.176155e+06  \n4      553925.906528   4.177444e+06  554047.315707  4.177362e+06  \n...              ...            ...            ...           ...  \n97195  549963.310450   4.176377e+06  550084.568256  4.176428e+06  \n97196  549974.874770   4.176457e+06  550084.568256  4.176428e+06  \n97197  550084.568256   4.176428e+06  549974.874770  4.176457e+06  \n97198  549974.874770   4.176457e+06  549876.937661  4.176482e+06  \n97199  549876.937661   4.176482e+06  549974.874770  4.176457e+06  \n\n[97200 rows x 14 columns]",
      "text/html": "<div>\n<style scoped>\n    .dataframe tbody tr th:only-of-type {\n        vertical-align: middle;\n    }\n\n    .dataframe tbody tr th {\n        vertical-align: top;\n    }\n\n    .dataframe thead th {\n        text-align: right;\n    }\n</style>\n<table border=\"1\" class=\"dataframe\">\n  <thead>\n    <tr style=\"text-align: right;\">\n      <th></th>\n      <th>linkId</th>\n      <th>linkLength</th>\n      <th>linkFreeSpeed</th>\n      <th>linkCapacity</th>\n      <th>numberOfLanes</th>\n      <th>linkModes</th>\n      <th>attributeOrigId</th>\n      <th>attributeOrigType</th>\n      <th>fromNodeId</th>\n      <th>toNodeId</th>\n      <th>fromLocationX</th>\n      <th>fromLocationY</th>\n      <th>toLocationX</th>\n      <th>toLocationY</th>\n    </tr>\n  </thead>\n  <tbody>\n    <tr>\n      <th>0</th>\n      <td>0</td>\n      <td>244.148</td>\n      <td>26.82</td>\n      <td>7600.0</td>\n      <td>4.0</td>\n      <td>car;walk;bike</td>\n      <td>1.0</td>\n      <td>freeway</td>\n      <td>0</td>\n      <td>1</td>\n      <td>553350.000950</td>\n      <td>4.173346e+06</td>\n      <td>553320.943482</td>\n      <td>4.173588e+06</td>\n    </tr>\n    <tr>\n      <th>1</th>\n      <td>1</td>\n      <td>244.148</td>\n      <td>26.82</td>\n      <td>7600.0</td>\n      <td>4.0</td>\n      <td>walk;bike</td>\n      <td>1.0</td>\n      <td>freeway</td>\n      <td>1</td>\n      <td>0</td>\n      <td>553320.943482</td>\n      <td>4.173588e+06</td>\n      <td>553350.000950</td>\n      <td>4.173346e+06</td>\n    </tr>\n    <tr>\n      <th>2</th>\n      <td>10</td>\n      <td>330.865</td>\n      <td>8.69</td>\n      <td>950.0</td>\n      <td>1.0</td>\n      <td>car;walk;bike</td>\n      <td>6.0</td>\n      <td>maj_arterial</td>\n      <td>8</td>\n      <td>10</td>\n      <td>546770.002863</td>\n      <td>4.173201e+06</td>\n      <td>546668.684147</td>\n      <td>4.173516e+06</td>\n    </tr>\n    <tr>\n      <th>3</th>\n      <td>100</td>\n      <td>224.255</td>\n      <td>7.45</td>\n      <td>350.0</td>\n      <td>1.0</td>\n      <td>car;walk;bike</td>\n      <td>51.0</td>\n      <td>local</td>\n      <td>63</td>\n      <td>64</td>\n      <td>554880.077637</td>\n      <td>4.176043e+06</td>\n      <td>554685.532201</td>\n      <td>4.176155e+06</td>\n    </tr>\n    <tr>\n      <th>4</th>\n      <td>1000</td>\n      <td>146.746</td>\n      <td>8.69</td>\n      <td>1600.0</td>\n      <td>2.0</td>\n      <td>car;walk;bike</td>\n      <td>501.0</td>\n      <td>minor_arterial</td>\n      <td>354</td>\n      <td>294</td>\n      <td>553925.906528</td>\n      <td>4.177444e+06</td>\n      <td>554047.315707</td>\n      <td>4.177362e+06</td>\n    </tr>\n    <tr>\n      <th>...</th>\n      <td>...</td>\n      <td>...</td>\n      <td>...</td>\n      <td>...</td>\n      <td>...</td>\n      <td>...</td>\n      <td>...</td>\n      <td>...</td>\n      <td>...</td>\n      <td>...</td>\n      <td>...</td>\n      <td>...</td>\n      <td>...</td>\n      <td>...</td>\n    </tr>\n    <tr>\n      <th>97195</th>\n      <td>9995</td>\n      <td>131.358</td>\n      <td>7.45</td>\n      <td>650.0</td>\n      <td>1.0</td>\n      <td>walk;bike</td>\n      <td>4998.0</td>\n      <td>collector</td>\n      <td>2360</td>\n      <td>2453</td>\n      <td>549963.310450</td>\n      <td>4.176377e+06</td>\n      <td>550084.568256</td>\n      <td>4.176428e+06</td>\n    </tr>\n    <tr>\n      <th>97196</th>\n      <td>9996</td>\n      <td>113.027</td>\n      <td>7.45</td>\n      <td>300.0</td>\n      <td>1.0</td>\n      <td>car;walk;bike</td>\n      <td>4999.0</td>\n      <td>local</td>\n      <td>2536</td>\n      <td>2453</td>\n      <td>549974.874770</td>\n      <td>4.176457e+06</td>\n      <td>550084.568256</td>\n      <td>4.176428e+06</td>\n    </tr>\n    <tr>\n      <th>97197</th>\n      <td>9997</td>\n      <td>113.027</td>\n      <td>7.45</td>\n      <td>300.0</td>\n      <td>1.0</td>\n      <td>walk;bike</td>\n      <td>4999.0</td>\n      <td>local</td>\n      <td>2453</td>\n      <td>2536</td>\n      <td>550084.568256</td>\n      <td>4.176428e+06</td>\n      <td>549974.874770</td>\n      <td>4.176457e+06</td>\n    </tr>\n    <tr>\n      <th>97198</th>\n      <td>9998</td>\n      <td>100.913</td>\n      <td>7.45</td>\n      <td>300.0</td>\n      <td>1.0</td>\n      <td>car;walk;bike</td>\n      <td>5000.0</td>\n      <td>local</td>\n      <td>2536</td>\n      <td>2538</td>\n      <td>549974.874770</td>\n      <td>4.176457e+06</td>\n      <td>549876.937661</td>\n      <td>4.176482e+06</td>\n    </tr>\n    <tr>\n      <th>97199</th>\n      <td>9999</td>\n      <td>100.913</td>\n      <td>7.45</td>\n      <td>300.0</td>\n      <td>1.0</td>\n      <td>walk;bike</td>\n      <td>5000.0</td>\n      <td>local</td>\n      <td>2538</td>\n      <td>2536</td>\n      <td>549876.937661</td>\n      <td>4.176482e+06</td>\n      <td>549974.874770</td>\n      <td>4.176457e+06</td>\n    </tr>\n  </tbody>\n</table>\n<p>97200 rows × 14 columns</p>\n</div>"
     },
     "execution_count": 69,
     "metadata": {},
     "output_type": "execute_result"
    }
   ],
   "source": [
    "df"
   ],
   "metadata": {
    "collapsed": false,
    "pycharm": {
     "name": "#%%\n"
    }
   }
  },
  {
   "cell_type": "code",
   "execution_count": 68,
   "outputs": [
    {
     "data": {
      "text/plain": "       linkId  linkLength  linkFreeSpeed  linkCapacity  numberOfLanes  \\\n33548   40190     193.688           8.69        1600.0            2.0   \n\n           linkModes  attributeOrigId attributeOrigType  fromNodeId  toNodeId  \\\n33548  car;walk;bike          20096.0    minor_arterial       10087     10096   \n\n       fromLocationX  fromLocationY    toLocationX   toLocationY  \n33548  545413.285516   4.180914e+06  545401.160019  4.181107e+06  ",
      "text/html": "<div>\n<style scoped>\n    .dataframe tbody tr th:only-of-type {\n        vertical-align: middle;\n    }\n\n    .dataframe tbody tr th {\n        vertical-align: top;\n    }\n\n    .dataframe thead th {\n        text-align: right;\n    }\n</style>\n<table border=\"1\" class=\"dataframe\">\n  <thead>\n    <tr style=\"text-align: right;\">\n      <th></th>\n      <th>linkId</th>\n      <th>linkLength</th>\n      <th>linkFreeSpeed</th>\n      <th>linkCapacity</th>\n      <th>numberOfLanes</th>\n      <th>linkModes</th>\n      <th>attributeOrigId</th>\n      <th>attributeOrigType</th>\n      <th>fromNodeId</th>\n      <th>toNodeId</th>\n      <th>fromLocationX</th>\n      <th>fromLocationY</th>\n      <th>toLocationX</th>\n      <th>toLocationY</th>\n    </tr>\n  </thead>\n  <tbody>\n    <tr>\n      <th>33548</th>\n      <td>40190</td>\n      <td>193.688</td>\n      <td>8.69</td>\n      <td>1600.0</td>\n      <td>2.0</td>\n      <td>car;walk;bike</td>\n      <td>20096.0</td>\n      <td>minor_arterial</td>\n      <td>10087</td>\n      <td>10096</td>\n      <td>545413.285516</td>\n      <td>4.180914e+06</td>\n      <td>545401.160019</td>\n      <td>4.181107e+06</td>\n    </tr>\n  </tbody>\n</table>\n</div>"
     },
     "execution_count": 68,
     "metadata": {},
     "output_type": "execute_result"
    }
   ],
   "source": [
    "df.loc[df[\"linkId\"]==40190]"
   ],
   "metadata": {
    "collapsed": false,
    "pycharm": {
     "name": "#%%\n"
    }
   }
  }
 ],
 "metadata": {
  "kernelspec": {
   "display_name": "Python 3",
   "language": "python",
   "name": "python3"
  },
  "language_info": {
   "codemirror_mode": {
    "name": "ipython",
    "version": 2
   },
   "file_extension": ".py",
   "mimetype": "text/x-python",
   "name": "python",
   "nbconvert_exporter": "python",
   "pygments_lexer": "ipython2",
   "version": "2.7.6"
  }
 },
 "nbformat": 4,
 "nbformat_minor": 0
}