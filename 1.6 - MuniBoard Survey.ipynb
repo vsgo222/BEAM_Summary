{
 "cells": [
  {
   "cell_type": "code",
   "execution_count": 1,
   "metadata": {
    "collapsed": true
   },
   "outputs": [],
   "source": [
    "import pandas as pd\n",
    "import geopandas as gpd\n",
    "import pathlib\n",
    "from pathlib import Path\n",
    "import datetime\n",
    "import os\n",
    "import numpy as np\n",
    "import seaborn as sns\n",
    "import matplotlib.pyplot as plt\n",
    "from matplotlib.gridspec import GridSpec\n",
    "import itertools\n",
    "# set the working directory\n",
    "BASE_DIR = Path.cwd()\n",
    "\n",
    "# %matplotlib inline"
   ]
  },
  {
   "cell_type": "code",
   "execution_count": 3,
   "outputs": [
    {
     "data": {
      "text/plain": "'\\nLooking for a few basic summaries of:\\n-\\tFrequency of 0, 1, 2 and 3+ transfers.\\n-\\tFrequency of walk access distance to transit, in 200m bins\\n-\\tFrequency of walk egress distance from transit, in 200m bins\\n-\\tDistribution of unweighted travel times\\n'"
     },
     "execution_count": 3,
     "metadata": {},
     "output_type": "execute_result"
    }
   ],
   "source": [
    "\"\"\"\n",
    "Looking for a few basic summaries of:\n",
    "-\tFrequency of 0, 1, 2 and 3+ transfers.\n",
    "-\tFrequency of walk access distance to transit, in 200m bins\n",
    "-\tFrequency of walk egress distance from transit, in 200m bins\n",
    "-\tDistribution of unweighted travel times\n",
    "\"\"\""
   ],
   "metadata": {
    "collapsed": false,
    "pycharm": {
     "name": "#%%\n"
    }
   }
  },
  {
   "cell_type": "code",
   "execution_count": 37,
   "outputs": [],
   "source": [
    "dfboardings = pd.read_csv(BASE_DIR.parent.joinpath(\"Muni on-board\",\"Muni 2017 TPS Access and Egress Distances.csv\"),low_memory=False)\n",
    "relevant_cols = ['ID', 'operator', 'access_mode', 'dest_purp', 'egress_mode',\n",
    "                 'orig_purp', 'workers', 'tour_purp', 'tour_purp_case', 'worker_numeric_cat', 'auto_suff',\n",
    "                 'first_before_operator_detail', 'second_before_operator_detail', 'third_before_operator_detail',\n",
    "                 'first_after_operator_detail', 'second_after_operator_detail', 'third_after_operator_detail',\n",
    "                 'first_before_operator', 'second_before_operator', 'third_before_operator',\n",
    "                 'first_after_operator', 'second_after_operator', 'third_after_operator',\n",
    "                 'first_before_technology', 'second_before_technology', 'third_before_technology',\n",
    "                 'first_after_technology', 'second_after_technology', 'third_after_technology',\n",
    "                 'transfer_from', 'transfer_to', 'first_board_tech', 'last_alight_tech',\n",
    "                 'boardings', 'day_part', 'trip_weight', 'survey_time',\n",
    "                 'agg_tour_purp',\n",
    "                 'access_mode_model', 'egress_mode_model', 'auto_suff_model',\n",
    "                 'exp_factor', 'boardWeight_2015', 'tripWeight_2015', 'nTransfers', 'period', 'BEST_MODE', 'TRANSFER_TYPE', 'final_tripWeight_2015', 'final_boardWeight_2015', 'final_expansionFactor', 'orig_dest_dist', 'orig_firstboard_dist', 'orig_surveyboard_dist', 'survey_alight_dest_dist', 'last_alight_dest_dist']\n",
    "dfselected = dfboardings[relevant_cols]"
   ],
   "metadata": {
    "collapsed": false,
    "pycharm": {
     "name": "#%%\n"
    }
   }
  },
  {
   "cell_type": "code",
   "execution_count": 68,
   "outputs": [
    {
     "data": {
      "text/plain": "<Figure size 841.68x595.44 with 1 Axes>",
      "image/png": "[encoded data removed]"
     },
     "metadata": {
      "needs_background": "light"
     },
     "output_type": "display_data"
    }
   ],
   "source": [
    "# -\tFrequency of 0, 1, 2 and 3+ transfers.\n",
    "# dfselected[\"nTransfers\"].value_counts(normalize=True).sort_values(ascending=False).plot(kind = 'barh')\n",
    "nTransfers = dfselected[\"nTransfers\"].value_counts()\n",
    "# dfsample\n",
    "nTransfers[3] = nTransfers[4] + nTransfers[3]\n",
    "nTransfers.pop(4)\n",
    "# nTransfers\n",
    "\n",
    "# nTransfers = dfselected[\"nTransfers\"].value_counts(normalize=True)\n",
    "fig = plt.figure(constrained_layout=True,figsize=(11.69,8.27))\n",
    "gs = GridSpec(7, 12, figure=fig)\n",
    "# set palette\n",
    "palette = itertools.cycle(sns.color_palette())\n",
    "# color\n",
    "c = next(palette)\n",
    "ax1 = fig.add_subplot(gs[:,:])\n",
    "sns.barplot(x=nTransfers.index, y=nTransfers.values, alpha=0.8)\n",
    "# sns.barplot(ax=ax1,data=nTransfers,x=(nTransfers.index),y=nTransfers.values,alpha=0.8,color=c)\n",
    "ax1.set_title('Total number of transfers',fontdict={\"size\":14})\n",
    "ax1.set_xlabel(xlabel=\"Number of transfers\",fontdict={\"size\":12})\n",
    "ax1.set_ylabel(ylabel=\"frequencies of transfer\",fontdict={\"size\":12})\n",
    "ax1.tick_params(labelsize=8)"
   ],
   "metadata": {
    "collapsed": false,
    "pycharm": {
     "name": "#%%\n"
    }
   }
  },
  {
   "cell_type": "code",
   "execution_count": 111,
   "outputs": [],
   "source": [
    "# Frequency of walk access distance to transit, in 200m bins\n",
    "dfaccess = dfselected.loc[dfselected[\"access_mode\"]==\"walk\"].copy()\n",
    "dfaccess.loc[:,\"1st_boarding_dist_ft\"] = dfaccess[\"orig_firstboard_dist\"]*5280\n",
    "dfaccess[[\"access_mode\",\"orig_dest_dist\",\"orig_firstboard_dist\",\"1st_boarding_dist_ft\"]].to_csv(BASE_DIR.parent.joinpath(\"Muni on-board\",\"Access Trip Distances.csv\"))\n",
    "dfegress = dfselected.loc[dfselected[\"egress_mode\"]==\"walk\"].copy()\n",
    "dfegress.loc[:,\"lst_egress_dist_ft\"] = dfegress[\"last_alight_dest_dist\"]*5280\n",
    "dfegress[[\"egress_mode\",\"orig_dest_dist\",\"last_alight_dest_dist\",\"lst_egress_dist_ft\"]].to_csv(BASE_DIR.parent.joinpath(\"Muni on-board\",\"Egress Trip Distances.csv\"))"
   ],
   "metadata": {
    "collapsed": false,
    "pycharm": {
     "name": "#%%\n"
    }
   }
  },
  {
   "cell_type": "code",
   "execution_count": 120,
   "outputs": [
    {
     "data": {
      "text/plain": "<AxesSubplot:xlabel='orig_firstboard_dist'>"
     },
     "execution_count": 120,
     "metadata": {},
     "output_type": "execute_result"
    },
    {
     "data": {
      "text/plain": "<Figure size 432x288 with 1 Axes>",
      "image/png": "[encoded data removed]"
     },
     "metadata": {
      "needs_background": "light"
     },
     "output_type": "display_data"
    }
   ],
   "source": [
    "sns.boxplot(x= dfaccess[\"orig_firstboard_dist\"])"
   ],
   "metadata": {
    "collapsed": false,
    "pycharm": {
     "name": "#%%\n"
    }
   }
  },
  {
   "cell_type": "code",
   "execution_count": 121,
   "outputs": [
    {
     "data": {
      "text/plain": "<AxesSubplot:xlabel='last_alight_dest_dist'>"
     },
     "execution_count": 121,
     "metadata": {},
     "output_type": "execute_result"
    },
    {
     "data": {
      "text/plain": "<Figure size 432x288 with 1 Axes>",
      "image/png": "[encoded data removed]"
     },
     "metadata": {
      "needs_background": "light"
     },
     "output_type": "display_data"
    }
   ],
   "source": [
    "sns.boxplot(x= dfegress[\"last_alight_dest_dist\"])"
   ],
   "metadata": {
    "collapsed": false,
    "pycharm": {
     "name": "#%%\n"
    }
   }
  },
  {
   "cell_type": "code",
   "execution_count": 112,
   "outputs": [
    {
     "data": {
      "text/plain": "<Figure size 841.68x595.44 with 1 Axes>",
      "image/png": "[encoded data removed]"
     },
     "metadata": {
      "needs_background": "light"
     },
     "output_type": "display_data"
    }
   ],
   "source": [
    "fig = plt.figure(constrained_layout=True,figsize=(11.69,8.27))\n",
    "gs = GridSpec(7, 12, figure=fig)\n",
    "# set palette\n",
    "palette = itertools.cycle(sns.color_palette())\n",
    "# color\n",
    "c = next(palette)\n",
    "ax1 = fig.add_subplot(gs[:,:])\n",
    "\n",
    "bins_range = range(round(min(dfaccess[\"1st_boarding_dist_ft\"])),round(max(dfaccess[\"1st_boarding_dist_ft\"])),4000)\n",
    "sns.histplot(ax=ax1,data=dfaccess,x=dfaccess[\"1st_boarding_dist_ft\"],stat='percent',bins=bins_range, color=c)\n",
    "ax1.set_title('Frequency of walk access distance to transit',fontdict={\"size\":14})\n",
    "ax1.set_xlabel(xlabel=\"Distance (feets)\",fontdict={\"size\":12})\n",
    "ax1.set_ylabel(ylabel=\"frequencies (%)\",fontdict={\"size\":12})\n",
    "ax1.tick_params(labelsize=8)"
   ],
   "metadata": {
    "collapsed": false,
    "pycharm": {
     "name": "#%%\n"
    }
   }
  },
  {
   "cell_type": "code",
   "execution_count": 116,
   "outputs": [
    {
     "data": {
      "text/plain": "range(0, 5781, 200)"
     },
     "execution_count": 116,
     "metadata": {},
     "output_type": "execute_result"
    }
   ],
   "source": [
    "bins_range = range(round(min(dfaccess[\"orig_firstboard_dist\"])),round(max(dfaccess[\"orig_firstboard_dist\"])),200)\n",
    "bins_range"
   ],
   "metadata": {
    "collapsed": false,
    "pycharm": {
     "name": "#%%\n"
    }
   }
  },
  {
   "cell_type": "code",
   "execution_count": 118,
   "outputs": [
    {
     "data": {
      "text/plain": "count    42975.000000\nmean         0.153082\nstd          0.222098\nmin          0.000306\n25%          0.037511\n50%          0.101068\n75%          0.192914\nmax         23.149718\nName: last_alight_dest_dist, dtype: float64"
     },
     "execution_count": 118,
     "metadata": {},
     "output_type": "execute_result"
    }
   ],
   "source": [
    "dfegress[\"last_alight_dest_dist\"].describe()"
   ],
   "metadata": {
    "collapsed": false,
    "pycharm": {
     "name": "#%%\n"
    }
   }
  },
  {
   "cell_type": "code",
   "execution_count": 119,
   "outputs": [
    {
     "data": {
      "text/plain": "count    42645.000000\nmean         0.291805\nstd         27.997328\nmin          0.000069\n25%          0.036595\n50%          0.096742\n75%          0.190421\nmax       5781.480376\nName: orig_firstboard_dist, dtype: float64"
     },
     "execution_count": 119,
     "metadata": {},
     "output_type": "execute_result"
    }
   ],
   "source": [
    "dfaccess[\"orig_firstboard_dist\"].describe()"
   ],
   "metadata": {
    "collapsed": false,
    "pycharm": {
     "name": "#%%\n"
    }
   }
  },
  {
   "cell_type": "code",
   "execution_count": 81,
   "outputs": [
    {
     "data": {
      "text/plain": "          ID         operator access_mode          dest_purp egress_mode  \\\n1         10  SF Muni [LOCAL]        walk          escorting        walk   \n2        100  SF Muni [LOCAL]        walk               home        walk   \n3       1000  SF Muni [LOCAL]        walk  social recreation        walk   \n4      10000  SF Muni [LOCAL]        walk               home        walk   \n5      10001  SF Muni [LOCAL]        walk               work        walk   \n...      ...              ...         ...                ...         ...   \n43764   9995  SF Muni [LOCAL]        walk  social recreation        walk   \n43765   9996  SF Muni [LOCAL]        walk            eat out        walk   \n43766   9997  SF Muni [LOCAL]        walk  other maintenance        walk   \n43767   9998  SF Muni [LOCAL]        walk  social recreation        walk   \n43768   9999  SF Muni [LOCAL]        walk               home        walk   \n\n               orig_purp      workers          tour_purp  \\\n1                   home          one               work   \n2      other maintenance         zero  other maintenance   \n3                   home         zero  social recreation   \n4                   work          two               work   \n5                   home          two               work   \n...                  ...          ...                ...   \n43764               home          one  social recreation   \n43765               work          two               work   \n43766               home          one  other maintenance   \n43767               work          one               work   \n43768               work  six or more               work   \n\n                tour_purp_case  worker_numeric_cat  ... TRANSFER_TYPE  \\\n1      home origin, work after                   1  ...         LB_HR   \n2             origin to home w                   0  ...  NO_TRANSFERS   \n3       home to destination nw                   0  ...         LB_LB   \n4                 work to home                   2  ...  NO_TRANSFERS   \n5                 home to work                   2  ...  NO_TRANSFERS   \n...                        ...                 ...  ...           ...   \n43764   home to destination nw                   1  ...  NO_TRANSFERS   \n43765           default origin                   2  ...  NO_TRANSFERS   \n43766   home to destination nw                   1  ...  NO_TRANSFERS   \n43767           default origin                   1  ...  NO_TRANSFERS   \n43768             work to home                   4  ...         LB_HR   \n\n      final_tripWeight_2015 final_boardWeight_2015 final_expansionFactor  \\\n1                  7.917375              23.752124              0.884662   \n2                 25.771842              25.771842              0.992905   \n3                 12.264525              24.529051              0.937222   \n4                 13.749268              13.749268              0.992905   \n5                 13.749268              13.749268              0.992905   \n...                     ...                    ...                   ...   \n43764             19.280810              19.280810              0.992904   \n43765             19.280810              19.280810              0.992904   \n43766             19.280810              19.280810              0.992904   \n43767             13.749268              13.749268              0.992905   \n43768              6.489101              12.978202              0.937222   \n\n      orig_dest_dist orig_firstboard_dist orig_surveyboard_dist  \\\n1           5.433428             0.237783              6.058412   \n2           0.558603             0.092291              0.092291   \n3           1.576316             0.119062              0.119062   \n4           1.629737             0.066227              0.066227   \n5           1.553987             0.140475              0.140475   \n...              ...                  ...                   ...   \n43764       0.782256             0.101703              0.101703   \n43765       0.377551             0.037937              0.037937   \n43766       0.729543             0.046433              0.046433   \n43767       0.773978             0.015297              0.015297   \n43768      30.326860             0.056021              0.056021   \n\n      survey_alight_dest_dist last_alight_dest_dist  \\\n1                    0.007223              0.007223   \n2                    0.005086              0.005086   \n3                    0.393891              0.030224   \n4                    0.070712              0.070712   \n5                    0.023352              0.023352   \n...                       ...                   ...   \n43764                0.007420              0.007420   \n43765                0.005502              0.005502   \n43766                0.007420              0.007420   \n43767                0.032994              0.032994   \n43768               29.342951              1.153316   \n\n      orig_firstboard_dist_meters  \n1                           383.0  \n2                           149.0  \n3                           192.0  \n4                           107.0  \n5                           226.0  \n...                           ...  \n43764                       164.0  \n43765                        61.0  \n43766                        75.0  \n43767                        25.0  \n43768                        90.0  \n\n[42645 rows x 57 columns]",
      "text/html": "<div>\n<style scoped>\n    .dataframe tbody tr th:only-of-type {\n        vertical-align: middle;\n    }\n\n    .dataframe tbody tr th {\n        vertical-align: top;\n    }\n\n    .dataframe thead th {\n        text-align: right;\n    }\n</style>\n<table border=\"1\" class=\"dataframe\">\n  <thead>\n    <tr style=\"text-align: right;\">\n      <th></th>\n      <th>ID</th>\n      <th>operator</th>\n      <th>access_mode</th>\n      <th>dest_purp</th>\n      <th>egress_mode</th>\n      <th>orig_purp</th>\n      <th>workers</th>\n      <th>tour_purp</th>\n      <th>tour_purp_case</th>\n      <th>worker_numeric_cat</th>\n      <th>...</th>\n      <th>TRANSFER_TYPE</th>\n      <th>final_tripWeight_2015</th>\n      <th>final_boardWeight_2015</th>\n      <th>final_expansionFactor</th>\n      <th>orig_dest_dist</th>\n      <th>orig_firstboard_dist</th>\n      <th>orig_surveyboard_dist</th>\n      <th>survey_alight_dest_dist</th>\n      <th>last_alight_dest_dist</th>\n      <th>orig_firstboard_dist_meters</th>\n    </tr>\n  </thead>\n  <tbody>\n    <tr>\n      <th>1</th>\n      <td>10</td>\n      <td>SF Muni [LOCAL]</td>\n      <td>walk</td>\n      <td>escorting</td>\n      <td>walk</td>\n      <td>home</td>\n      <td>one</td>\n      <td>work</td>\n      <td>home origin, work after</td>\n      <td>1</td>\n      <td>...</td>\n      <td>LB_HR</td>\n      <td>7.917375</td>\n      <td>23.752124</td>\n      <td>0.884662</td>\n      <td>5.433428</td>\n      <td>0.237783</td>\n      <td>6.058412</td>\n      <td>0.007223</td>\n      <td>0.007223</td>\n      <td>383.0</td>\n    </tr>\n    <tr>\n      <th>2</th>\n      <td>100</td>\n      <td>SF Muni [LOCAL]</td>\n      <td>walk</td>\n      <td>home</td>\n      <td>walk</td>\n      <td>other maintenance</td>\n      <td>zero</td>\n      <td>other maintenance</td>\n      <td>origin to home w</td>\n      <td>0</td>\n      <td>...</td>\n      <td>NO_TRANSFERS</td>\n      <td>25.771842</td>\n      <td>25.771842</td>\n      <td>0.992905</td>\n      <td>0.558603</td>\n      <td>0.092291</td>\n      <td>0.092291</td>\n      <td>0.005086</td>\n      <td>0.005086</td>\n      <td>149.0</td>\n    </tr>\n    <tr>\n      <th>3</th>\n      <td>1000</td>\n      <td>SF Muni [LOCAL]</td>\n      <td>walk</td>\n      <td>social recreation</td>\n      <td>walk</td>\n      <td>home</td>\n      <td>zero</td>\n      <td>social recreation</td>\n      <td>home to destination nw</td>\n      <td>0</td>\n      <td>...</td>\n      <td>LB_LB</td>\n      <td>12.264525</td>\n      <td>24.529051</td>\n      <td>0.937222</td>\n      <td>1.576316</td>\n      <td>0.119062</td>\n      <td>0.119062</td>\n      <td>0.393891</td>\n      <td>0.030224</td>\n      <td>192.0</td>\n    </tr>\n    <tr>\n      <th>4</th>\n      <td>10000</td>\n      <td>SF Muni [LOCAL]</td>\n      <td>walk</td>\n      <td>home</td>\n      <td>walk</td>\n      <td>work</td>\n      <td>two</td>\n      <td>work</td>\n      <td>work to home</td>\n      <td>2</td>\n      <td>...</td>\n      <td>NO_TRANSFERS</td>\n      <td>13.749268</td>\n      <td>13.749268</td>\n      <td>0.992905</td>\n      <td>1.629737</td>\n      <td>0.066227</td>\n      <td>0.066227</td>\n      <td>0.070712</td>\n      <td>0.070712</td>\n      <td>107.0</td>\n    </tr>\n    <tr>\n      <th>5</th>\n      <td>10001</td>\n      <td>SF Muni [LOCAL]</td>\n      <td>walk</td>\n      <td>work</td>\n      <td>walk</td>\n      <td>home</td>\n      <td>two</td>\n      <td>work</td>\n      <td>home to work</td>\n      <td>2</td>\n      <td>...</td>\n      <td>NO_TRANSFERS</td>\n      <td>13.749268</td>\n      <td>13.749268</td>\n      <td>0.992905</td>\n      <td>1.553987</td>\n      <td>0.140475</td>\n      <td>0.140475</td>\n      <td>0.023352</td>\n      <td>0.023352</td>\n      <td>226.0</td>\n    </tr>\n    <tr>\n      <th>...</th>\n      <td>...</td>\n      <td>...</td>\n      <td>...</td>\n      <td>...</td>\n      <td>...</td>\n      <td>...</td>\n      <td>...</td>\n      <td>...</td>\n      <td>...</td>\n      <td>...</td>\n      <td>...</td>\n      <td>...</td>\n      <td>...</td>\n      <td>...</td>\n      <td>...</td>\n      <td>...</td>\n      <td>...</td>\n      <td>...</td>\n      <td>...</td>\n      <td>...</td>\n      <td>...</td>\n    </tr>\n    <tr>\n      <th>43764</th>\n      <td>9995</td>\n      <td>SF Muni [LOCAL]</td>\n      <td>walk</td>\n      <td>social recreation</td>\n      <td>walk</td>\n      <td>home</td>\n      <td>one</td>\n      <td>social recreation</td>\n      <td>home to destination nw</td>\n      <td>1</td>\n      <td>...</td>\n      <td>NO_TRANSFERS</td>\n      <td>19.280810</td>\n      <td>19.280810</td>\n      <td>0.992904</td>\n      <td>0.782256</td>\n      <td>0.101703</td>\n      <td>0.101703</td>\n      <td>0.007420</td>\n      <td>0.007420</td>\n      <td>164.0</td>\n    </tr>\n    <tr>\n      <th>43765</th>\n      <td>9996</td>\n      <td>SF Muni [LOCAL]</td>\n      <td>walk</td>\n      <td>eat out</td>\n      <td>walk</td>\n      <td>work</td>\n      <td>two</td>\n      <td>work</td>\n      <td>default origin</td>\n      <td>2</td>\n      <td>...</td>\n      <td>NO_TRANSFERS</td>\n      <td>19.280810</td>\n      <td>19.280810</td>\n      <td>0.992904</td>\n      <td>0.377551</td>\n      <td>0.037937</td>\n      <td>0.037937</td>\n      <td>0.005502</td>\n      <td>0.005502</td>\n      <td>61.0</td>\n    </tr>\n    <tr>\n      <th>43766</th>\n      <td>9997</td>\n      <td>SF Muni [LOCAL]</td>\n      <td>walk</td>\n      <td>other maintenance</td>\n      <td>walk</td>\n      <td>home</td>\n      <td>one</td>\n      <td>other maintenance</td>\n      <td>home to destination nw</td>\n      <td>1</td>\n      <td>...</td>\n      <td>NO_TRANSFERS</td>\n      <td>19.280810</td>\n      <td>19.280810</td>\n      <td>0.992904</td>\n      <td>0.729543</td>\n      <td>0.046433</td>\n      <td>0.046433</td>\n      <td>0.007420</td>\n      <td>0.007420</td>\n      <td>75.0</td>\n    </tr>\n    <tr>\n      <th>43767</th>\n      <td>9998</td>\n      <td>SF Muni [LOCAL]</td>\n      <td>walk</td>\n      <td>social recreation</td>\n      <td>walk</td>\n      <td>work</td>\n      <td>one</td>\n      <td>work</td>\n      <td>default origin</td>\n      <td>1</td>\n      <td>...</td>\n      <td>NO_TRANSFERS</td>\n      <td>13.749268</td>\n      <td>13.749268</td>\n      <td>0.992905</td>\n      <td>0.773978</td>\n      <td>0.015297</td>\n      <td>0.015297</td>\n      <td>0.032994</td>\n      <td>0.032994</td>\n      <td>25.0</td>\n    </tr>\n    <tr>\n      <th>43768</th>\n      <td>9999</td>\n      <td>SF Muni [LOCAL]</td>\n      <td>walk</td>\n      <td>home</td>\n      <td>walk</td>\n      <td>work</td>\n      <td>six or more</td>\n      <td>work</td>\n      <td>work to home</td>\n      <td>4</td>\n      <td>...</td>\n      <td>LB_HR</td>\n      <td>6.489101</td>\n      <td>12.978202</td>\n      <td>0.937222</td>\n      <td>30.326860</td>\n      <td>0.056021</td>\n      <td>0.056021</td>\n      <td>29.342951</td>\n      <td>1.153316</td>\n      <td>90.0</td>\n    </tr>\n  </tbody>\n</table>\n<p>42645 rows × 57 columns</p>\n</div>"
     },
     "execution_count": 81,
     "metadata": {},
     "output_type": "execute_result"
    }
   ],
   "source": [
    "fig = plt.figure(constrained_layout=True,figsize=(11.69,8.27))\n",
    "gs = GridSpec(7, 12, figure=fig)\n",
    "# set palette\n",
    "palette = itertools.cycle(sns.color_palette())\n",
    "# color\n",
    "c = next(palette)\n",
    "ax1 = fig.add_subplot(gs[:,:])\n",
    "\n",
    "bins_range = range(round(min(dfegress[\"lst_egress_dist_ft\"])),round(max(dfegress[\"lst_egress_dist_ft\"])),200)\n",
    "sns.histplot(ax=ax1,data=dfaccess,x=dfegress[\"lst_egress_dist_ft\"],stat='percent',bins=bins_range, color=c)\n",
    "ax1.set_title('Frequency of walk egress distance to destination',fontdict={\"size\":14})\n",
    "ax1.set_xlabel(xlabel=\"Distance (feets)\",fontdict={\"size\":12})\n",
    "ax1.set_ylabel(ylabel=\"frequencies (%)\",fontdict={\"size\":12})\n",
    "ax1.tick_params(labelsize=8)"
   ],
   "metadata": {
    "collapsed": false,
    "pycharm": {
     "name": "#%%\n"
    }
   }
  },
  {
   "cell_type": "code",
   "execution_count": 6,
   "outputs": [
    {
     "name": "stdout",
     "output_type": "stream",
     "text": [
      "['ID', 'operator', 'survey_year', 'SURVEY_MODE', 'access_mode', 'depart_hour', 'dest_purp', 'direction', 'egress_mode', 'eng_proficient', 'fare_category', 'fare_medium', 'gender', 'hispanic', 'household_income', 'interview_language', 'onoff_enter_station', 'onoff_exit_station', 'orig_purp', 'persons', 'return_hour', 'route', 'student_status', 'survey_type', 'time_period', 'transit_type', 'trip_purp', 'vehicles', 'weekpart', 'weight', 'work_status', 'workers', 'canonical_operator', 'operator_detail', 'technology', 'approximate_age', 'tour_purp', 'tour_purp_case', 'vehicle_numeric_cat', 'worker_numeric_cat', 'auto_suff', 'first_before_operator_detail', 'second_before_operator_detail', 'third_before_operator_detail', 'first_after_operator_detail', 'second_after_operator_detail', 'third_after_operator_detail', 'first_before_operator', 'second_before_operator', 'third_before_operator', 'first_after_operator', 'second_after_operator', 'third_after_operator', 'first_before_technology', 'second_before_technology', 'third_before_technology', 'first_after_technology', 'second_after_technology', 'third_after_technology', 'transfer_from', 'transfer_to', 'first_board_tech', 'last_alight_tech', 'commuter_rail_present', 'heavy_rail_present', 'express_bus_present', 'ferry_present', 'light_rail_present', 'boardings', 'race', 'language_at_home', 'day_of_the_week', 'field_start', 'field_end', 'day_part', 'unique_ID', 'trip_weight', 'field_language', 'survey_time', 'path_access', 'path_egress', 'path_line_haul', 'path_label', 'survey_batch', 'agg_tour_purp', 'access_mode_model', 'egress_mode_model', 'auto_suff_model', 'exp_factor', 'boardWeight_2015', 'tripWeight_2015', 'nTransfers', 'period', 'transfer_from_tech', 'transfer_to_tech', 'usedLB', 'usedCR', 'usedHR', 'usedEB', 'usedLR', 'usedFR', 'usedTotal', 'BEST_MODE', 'LB_CR', 'LB_HR', 'LB_LR', 'LB_FR', 'LB_EB', 'LB_LB', 'EB_CR', 'EB_HR', 'EB_LR', 'EB_FR', 'EB_EB', 'FR_CR', 'FR_HR', 'FR_LR', 'FR_FR', 'LR_CR', 'LR_HR', 'LR_LR', 'HR_CR', 'HR_HR', 'CR_CR', 'TRANSFER_TYPE', 'hh_id', 'final_tripWeight_2015', 'final_boardWeight_2015', 'final_expansionFactor', 'orig_dest_dist', 'orig_firstboard_dist', 'orig_surveyboard_dist', 'survey_alight_dest_dist', 'last_alight_dest_dist']\n"
     ]
    }
   ],
   "source": [
    "print(dfboardings.columns.to_list())"
   ],
   "metadata": {
    "collapsed": false,
    "pycharm": {
     "name": "#%%\n"
    }
   }
  },
  {
   "cell_type": "code",
   "execution_count": 7,
   "outputs": [
    {
     "data": {
      "text/plain": "          ID         operator  survey_year SURVEY_MODE access_mode  \\\n0          1  SF Muni [LOCAL]         2017          LB         knr   \n1         10  SF Muni [LOCAL]         2017          LB        walk   \n2        100  SF Muni [LOCAL]         2017          LB        walk   \n3       1000  SF Muni [LOCAL]         2017          LB        walk   \n4      10000  SF Muni [LOCAL]         2017          LB        walk   \n...      ...              ...          ...         ...         ...   \n43764   9995  SF Muni [LOCAL]         2017          LB        walk   \n43765   9996  SF Muni [LOCAL]         2017          LB        walk   \n43766   9997  SF Muni [LOCAL]         2017          LB        walk   \n43767   9998  SF Muni [LOCAL]         2017          LB        walk   \n43768   9999  SF Muni [LOCAL]         2017          LB        walk   \n\n       depart_hour          dest_purp  direction egress_mode eng_proficient  \\\n0              NaN               work        NaN        walk            NaN   \n1              NaN          escorting        NaN        walk      VERY WELL   \n2              8.0               home        NaN        walk            NaN   \n3              NaN  social recreation        NaN        walk       NOT WELL   \n4             11.0               home        NaN        walk      VERY WELL   \n...            ...                ...        ...         ...            ...   \n43764          NaN  social recreation        NaN        walk            NaN   \n43765          NaN            eat out        NaN        walk            NaN   \n43766          NaN  other maintenance        NaN        walk            NaN   \n43767          NaN  social recreation        NaN        walk            NaN   \n43768          NaN               home        NaN        walk            NaN   \n\n       ... TRANSFER_TYPE   hh_id final_tripWeight_2015 final_boardWeight_2015  \\\n0      ...         LB_HR   69386             12.581647              25.163294   \n1      ...         LB_HR   69387              7.917375              23.752124   \n2      ...  NO_TRANSFERS   69388             25.771842              25.771842   \n3      ...         LB_LB   69389             12.264525              24.529051   \n4      ...  NO_TRANSFERS   69390             13.749268              13.749268   \n...    ...           ...     ...                   ...                    ...   \n43764  ...  NO_TRANSFERS  113150             19.280810              19.280810   \n43765  ...  NO_TRANSFERS  113151             19.280810              19.280810   \n43766  ...  NO_TRANSFERS  113152             19.280810              19.280810   \n43767  ...  NO_TRANSFERS  113153             13.749268              13.749268   \n43768  ...         LB_HR  113154              6.489101              12.978202   \n\n      final_expansionFactor orig_dest_dist  orig_firstboard_dist  \\\n0                  0.937222       9.355325              1.007234   \n1                  0.884662       5.433428              0.237783   \n2                  0.992905       0.558603              0.092291   \n3                  0.937222       1.576316              0.119062   \n4                  0.992905       1.629737              0.066227   \n...                     ...            ...                   ...   \n43764              0.992904       0.782256              0.101703   \n43765              0.992904       0.377551              0.037937   \n43766              0.992904       0.729543              0.046433   \n43767              0.992905       0.773978              0.015297   \n43768              0.937222      30.326860              0.056021   \n\n       orig_surveyboard_dist survey_alight_dest_dist last_alight_dest_dist  \n0                   9.321404                0.293603              0.293603  \n1                   6.058412                0.007223              0.007223  \n2                   0.092291                0.005086              0.005086  \n3                   0.119062                0.393891              0.030224  \n4                   0.066227                0.070712              0.070712  \n...                      ...                     ...                   ...  \n43764               0.101703                0.007420              0.007420  \n43765               0.037937                0.005502              0.005502  \n43766               0.046433                0.007420              0.007420  \n43767               0.015297                0.032994              0.032994  \n43768               0.056021               29.342951              1.153316  \n\n[43769 rows x 134 columns]",
      "text/html": "<div>\n<style scoped>\n    .dataframe tbody tr th:only-of-type {\n        vertical-align: middle;\n    }\n\n    .dataframe tbody tr th {\n        vertical-align: top;\n    }\n\n    .dataframe thead th {\n        text-align: right;\n    }\n</style>\n<table border=\"1\" class=\"dataframe\">\n  <thead>\n    <tr style=\"text-align: right;\">\n      <th></th>\n      <th>ID</th>\n      <th>operator</th>\n      <th>survey_year</th>\n      <th>SURVEY_MODE</th>\n      <th>access_mode</th>\n      <th>depart_hour</th>\n      <th>dest_purp</th>\n      <th>direction</th>\n      <th>egress_mode</th>\n      <th>eng_proficient</th>\n      <th>...</th>\n      <th>TRANSFER_TYPE</th>\n      <th>hh_id</th>\n      <th>final_tripWeight_2015</th>\n      <th>final_boardWeight_2015</th>\n      <th>final_expansionFactor</th>\n      <th>orig_dest_dist</th>\n      <th>orig_firstboard_dist</th>\n      <th>orig_surveyboard_dist</th>\n      <th>survey_alight_dest_dist</th>\n      <th>last_alight_dest_dist</th>\n    </tr>\n  </thead>\n  <tbody>\n    <tr>\n      <th>0</th>\n      <td>1</td>\n      <td>SF Muni [LOCAL]</td>\n      <td>2017</td>\n      <td>LB</td>\n      <td>knr</td>\n      <td>NaN</td>\n      <td>work</td>\n      <td>NaN</td>\n      <td>walk</td>\n      <td>NaN</td>\n      <td>...</td>\n      <td>LB_HR</td>\n      <td>69386</td>\n      <td>12.581647</td>\n      <td>25.163294</td>\n      <td>0.937222</td>\n      <td>9.355325</td>\n      <td>1.007234</td>\n      <td>9.321404</td>\n      <td>0.293603</td>\n      <td>0.293603</td>\n    </tr>\n    <tr>\n      <th>1</th>\n      <td>10</td>\n      <td>SF Muni [LOCAL]</td>\n      <td>2017</td>\n      <td>LB</td>\n      <td>walk</td>\n      <td>NaN</td>\n      <td>escorting</td>\n      <td>NaN</td>\n      <td>walk</td>\n      <td>VERY WELL</td>\n      <td>...</td>\n      <td>LB_HR</td>\n      <td>69387</td>\n      <td>7.917375</td>\n      <td>23.752124</td>\n      <td>0.884662</td>\n      <td>5.433428</td>\n      <td>0.237783</td>\n      <td>6.058412</td>\n      <td>0.007223</td>\n      <td>0.007223</td>\n    </tr>\n    <tr>\n      <th>2</th>\n      <td>100</td>\n      <td>SF Muni [LOCAL]</td>\n      <td>2017</td>\n      <td>LB</td>\n      <td>walk</td>\n      <td>8.0</td>\n      <td>home</td>\n      <td>NaN</td>\n      <td>walk</td>\n      <td>NaN</td>\n      <td>...</td>\n      <td>NO_TRANSFERS</td>\n      <td>69388</td>\n      <td>25.771842</td>\n      <td>25.771842</td>\n      <td>0.992905</td>\n      <td>0.558603</td>\n      <td>0.092291</td>\n      <td>0.092291</td>\n      <td>0.005086</td>\n      <td>0.005086</td>\n    </tr>\n    <tr>\n      <th>3</th>\n      <td>1000</td>\n      <td>SF Muni [LOCAL]</td>\n      <td>2017</td>\n      <td>LB</td>\n      <td>walk</td>\n      <td>NaN</td>\n      <td>social recreation</td>\n      <td>NaN</td>\n      <td>walk</td>\n      <td>NOT WELL</td>\n      <td>...</td>\n      <td>LB_LB</td>\n      <td>69389</td>\n      <td>12.264525</td>\n      <td>24.529051</td>\n      <td>0.937222</td>\n      <td>1.576316</td>\n      <td>0.119062</td>\n      <td>0.119062</td>\n      <td>0.393891</td>\n      <td>0.030224</td>\n    </tr>\n    <tr>\n      <th>4</th>\n      <td>10000</td>\n      <td>SF Muni [LOCAL]</td>\n      <td>2017</td>\n      <td>LB</td>\n      <td>walk</td>\n      <td>11.0</td>\n      <td>home</td>\n      <td>NaN</td>\n      <td>walk</td>\n      <td>VERY WELL</td>\n      <td>...</td>\n      <td>NO_TRANSFERS</td>\n      <td>69390</td>\n      <td>13.749268</td>\n      <td>13.749268</td>\n      <td>0.992905</td>\n      <td>1.629737</td>\n      <td>0.066227</td>\n      <td>0.066227</td>\n      <td>0.070712</td>\n      <td>0.070712</td>\n    </tr>\n    <tr>\n      <th>...</th>\n      <td>...</td>\n      <td>...</td>\n      <td>...</td>\n      <td>...</td>\n      <td>...</td>\n      <td>...</td>\n      <td>...</td>\n      <td>...</td>\n      <td>...</td>\n      <td>...</td>\n      <td>...</td>\n      <td>...</td>\n      <td>...</td>\n      <td>...</td>\n      <td>...</td>\n      <td>...</td>\n      <td>...</td>\n      <td>...</td>\n      <td>...</td>\n      <td>...</td>\n      <td>...</td>\n    </tr>\n    <tr>\n      <th>43764</th>\n      <td>9995</td>\n      <td>SF Muni [LOCAL]</td>\n      <td>2017</td>\n      <td>LB</td>\n      <td>walk</td>\n      <td>NaN</td>\n      <td>social recreation</td>\n      <td>NaN</td>\n      <td>walk</td>\n      <td>NaN</td>\n      <td>...</td>\n      <td>NO_TRANSFERS</td>\n      <td>113150</td>\n      <td>19.280810</td>\n      <td>19.280810</td>\n      <td>0.992904</td>\n      <td>0.782256</td>\n      <td>0.101703</td>\n      <td>0.101703</td>\n      <td>0.007420</td>\n      <td>0.007420</td>\n    </tr>\n    <tr>\n      <th>43765</th>\n      <td>9996</td>\n      <td>SF Muni [LOCAL]</td>\n      <td>2017</td>\n      <td>LB</td>\n      <td>walk</td>\n      <td>NaN</td>\n      <td>eat out</td>\n      <td>NaN</td>\n      <td>walk</td>\n      <td>NaN</td>\n      <td>...</td>\n      <td>NO_TRANSFERS</td>\n      <td>113151</td>\n      <td>19.280810</td>\n      <td>19.280810</td>\n      <td>0.992904</td>\n      <td>0.377551</td>\n      <td>0.037937</td>\n      <td>0.037937</td>\n      <td>0.005502</td>\n      <td>0.005502</td>\n    </tr>\n    <tr>\n      <th>43766</th>\n      <td>9997</td>\n      <td>SF Muni [LOCAL]</td>\n      <td>2017</td>\n      <td>LB</td>\n      <td>walk</td>\n      <td>NaN</td>\n      <td>other maintenance</td>\n      <td>NaN</td>\n      <td>walk</td>\n      <td>NaN</td>\n      <td>...</td>\n      <td>NO_TRANSFERS</td>\n      <td>113152</td>\n      <td>19.280810</td>\n      <td>19.280810</td>\n      <td>0.992904</td>\n      <td>0.729543</td>\n      <td>0.046433</td>\n      <td>0.046433</td>\n      <td>0.007420</td>\n      <td>0.007420</td>\n    </tr>\n    <tr>\n      <th>43767</th>\n      <td>9998</td>\n      <td>SF Muni [LOCAL]</td>\n      <td>2017</td>\n      <td>LB</td>\n      <td>walk</td>\n      <td>NaN</td>\n      <td>social recreation</td>\n      <td>NaN</td>\n      <td>walk</td>\n      <td>NaN</td>\n      <td>...</td>\n      <td>NO_TRANSFERS</td>\n      <td>113153</td>\n      <td>13.749268</td>\n      <td>13.749268</td>\n      <td>0.992905</td>\n      <td>0.773978</td>\n      <td>0.015297</td>\n      <td>0.015297</td>\n      <td>0.032994</td>\n      <td>0.032994</td>\n    </tr>\n    <tr>\n      <th>43768</th>\n      <td>9999</td>\n      <td>SF Muni [LOCAL]</td>\n      <td>2017</td>\n      <td>LB</td>\n      <td>walk</td>\n      <td>NaN</td>\n      <td>home</td>\n      <td>NaN</td>\n      <td>walk</td>\n      <td>NaN</td>\n      <td>...</td>\n      <td>LB_HR</td>\n      <td>113154</td>\n      <td>6.489101</td>\n      <td>12.978202</td>\n      <td>0.937222</td>\n      <td>30.326860</td>\n      <td>0.056021</td>\n      <td>0.056021</td>\n      <td>29.342951</td>\n      <td>1.153316</td>\n    </tr>\n  </tbody>\n</table>\n<p>43769 rows × 134 columns</p>\n</div>"
     },
     "execution_count": 7,
     "metadata": {},
     "output_type": "execute_result"
    }
   ],
   "source": [
    "dfboardings"
   ],
   "metadata": {
    "collapsed": false,
    "pycharm": {
     "name": "#%%\n"
    }
   }
  },
  {
   "cell_type": "code",
   "execution_count": null,
   "outputs": [],
   "source": [],
   "metadata": {
    "collapsed": false,
    "pycharm": {
     "name": "#%%\n"
    }
   }
  },
  {
   "cell_type": "code",
   "execution_count": null,
   "outputs": [],
   "source": [],
   "metadata": {
    "collapsed": false,
    "pycharm": {
     "name": "#%%\n"
    }
   }
  }
 ],
 "metadata": {
  "kernelspec": {
   "display_name": "Python 3",
   "language": "python",
   "name": "python3"
  },
  "language_info": {
   "codemirror_mode": {
    "name": "ipython",
    "version": 2
   },
   "file_extension": ".py",
   "mimetype": "text/x-python",
   "name": "python",
   "nbconvert_exporter": "python",
   "pygments_lexer": "ipython2",
   "version": "2.7.6"
  }
 },
 "nbformat": 4,
 "nbformat_minor": 0
}